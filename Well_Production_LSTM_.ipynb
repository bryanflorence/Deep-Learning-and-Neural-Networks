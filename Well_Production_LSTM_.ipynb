{
  "nbformat": 4,
  "nbformat_minor": 0,
  "metadata": {
    "colab": {
      "name": "Well_Production_LSTM_.ipynb",
      "provenance": []
    },
    "kernelspec": {
      "name": "python3",
      "display_name": "Python 3"
    }
  },
  "cells": [
    {
      "cell_type": "code",
      "metadata": {
        "id": "BdLGJ5H0atAn",
        "colab_type": "code",
        "outputId": "1439436d-637e-4f3e-f50b-cb9853577d7e",
        "colab": {
          "base_uri": "https://localhost:8080/",
          "height": 88
        }
      },
      "source": [
        "import keras\n",
        "import tensorflow.keras as tf\n",
        "#import tensorflow.compat.v1 as tf\n",
        "#tf.disable_v2_behavior() \n",
        "\n",
        "import pandas as pd\n",
        "import numpy as np\n",
        "from pandas import read_csv\n",
        "from pandas import concat\n",
        "#from pandas import datetime\n",
        "import matplotlib.pyplot as plt\n",
        "from matplotlib import pyplot\n",
        "import seaborn as sns\n",
        "from datetime import datetime\n",
        "import math\n",
        "\n",
        "from sklearn.model_selection import train_test_split\n",
        "from sklearn.preprocessing import MinMaxScaler\n",
        "from sklearn.preprocessing import LabelEncoder\n",
        "from sklearn.metrics import mean_squared_error\n",
        "\n",
        "from keras.models import Sequential\n",
        "from keras.layers import Dense, LSTM\n",
        "\n",
        "from sklearn import metrics\n",
        "from sklearn import preprocessing\n",
        "from sklearn.preprocessing import StandardScaler\n",
        "from sklearn.model_selection import GridSearchCV\n",
        "from mpl_toolkits import mplot3d\n"
      ],
      "execution_count": 0,
      "outputs": [
        {
          "output_type": "stream",
          "text": [
            "Using TensorFlow backend.\n",
            "/usr/local/lib/python3.6/dist-packages/statsmodels/tools/_testing.py:19: FutureWarning: pandas.util.testing is deprecated. Use the functions in the public API at pandas.testing instead.\n",
            "  import pandas.util.testing as tm\n"
          ],
          "name": "stderr"
        }
      ]
    },
    {
      "cell_type": "markdown",
      "metadata": {
        "id": "rb4ae83mNimq",
        "colab_type": "text"
      },
      "source": [
        "### To upload file from Google drive to Colab ###"
      ]
    },
    {
      "cell_type": "code",
      "metadata": {
        "id": "w-qnNJ3wNbUU",
        "colab_type": "code",
        "outputId": "2de32f7c-b5dd-4bcd-b314-3507af852db4",
        "colab": {
          "base_uri": "https://localhost:8080/",
          "height": 54
        }
      },
      "source": [
        "from google.colab import drive\n",
        "drive.mount('/content/drive')"
      ],
      "execution_count": 0,
      "outputs": [
        {
          "output_type": "stream",
          "text": [
            "Drive already mounted at /content/drive; to attempt to forcibly remount, call drive.mount(\"/content/drive\", force_remount=True).\n"
          ],
          "name": "stdout"
        }
      ]
    },
    {
      "cell_type": "code",
      "metadata": {
        "id": "6abns6s4Nhb8",
        "colab_type": "code",
        "colab": {}
      },
      "source": [
        "path = \"/content/drive/My Drive/Colab Notebooks/CANDY_CANE_101.xlsx\"\n",
        "df = pd.read_excel(path)"
      ],
      "execution_count": 0,
      "outputs": []
    },
    {
      "cell_type": "markdown",
      "metadata": {
        "id": "9_iyZAeHO1gu",
        "colab_type": "text"
      },
      "source": [
        "### Upload file from local ###"
      ]
    },
    {
      "cell_type": "code",
      "metadata": {
        "id": "7jIagQGtOtNr",
        "colab_type": "code",
        "colab": {}
      },
      "source": [
        "df = pd.read_excel('C:/Users/Tokyo/Desktop/MSDS/Math6397 Case Studies/CANDY_CANE_101.xlsx')"
      ],
      "execution_count": 0,
      "outputs": []
    },
    {
      "cell_type": "markdown",
      "metadata": {
        "id": "oBThnMf01jIf",
        "colab_type": "text"
      },
      "source": [
        "### Preprocessing of raw file ###"
      ]
    },
    {
      "cell_type": "code",
      "metadata": {
        "id": "5cBbIbOH06cc",
        "colab_type": "code",
        "outputId": "76535299-6b56-400e-bdea-0181b69d3eea",
        "colab": {
          "base_uri": "https://localhost:8080/",
          "height": 187
        }
      },
      "source": [
        "duplicate_rows_df=df[df.duplicated()]  # check for duplicates\n",
        "duplicate_rows_df.shape\n",
        "df.columns =  ['Type','Name', 'Timestamp', 'CasePA','CasePB','FLP','FLT','Vol','TubP']\n",
        "\n",
        "print(df.isnull().sum())\n",
        "\n",
        "df['Timestamp'] = pd.to_datetime(df['Timestamp'])\n",
        "df = df.drop(columns = ['Type','Name'])\n",
        "\n",
        "# coerce values to float, otherwise fill with na\n",
        "df['CasePA'] = pd.to_numeric(df['CasePA'], errors='coerce').astype(float)\n",
        "df['CasePB'] = pd.to_numeric(df['CasePB'], errors='coerce').astype(float)\n",
        "df['FLP'] = pd.to_numeric(df['FLP'], errors='coerce').astype(float)\n",
        "df['FLT'] = pd.to_numeric(df['FLT'], errors='coerce').astype(float)\n",
        "df['Vol'] = pd.to_numeric(df['Vol'], errors='coerce').astype(float)\n",
        "df['TubP'] = pd.to_numeric(df['TubP'], errors='coerce').astype(float)\n",
        "\n",
        "# Fill data for CasePB when missing. Use rolling 2 day rolling window\n",
        "df['CasePB'] = df['CasePB'].fillna(df['TubP'].rolling(window = 2880).mean())\n",
        "\n",
        "#Fill na with column means\n",
        "df['CasePA'] = df['CasePA'].fillna(df['CasePA'].mean())\n",
        "df['CasePB'] = df['CasePB'].fillna(df['CasePB'].mean())\n",
        "df['FLP'] = df['FLP'].fillna(df['FLP'].mean())\n",
        "df['FLT'] = df['FLT'].fillna(df['FLT'].mean())\n",
        "df['Vol'] = df['Vol'].fillna(df['Vol'].mean())\n",
        "df['TubP'] = df['TubP'].fillna(df['TubP'].mean())\n",
        "\n"
      ],
      "execution_count": 0,
      "outputs": [
        {
          "output_type": "stream",
          "text": [
            "Type              0\n",
            "Name              0\n",
            "Timestamp         0\n",
            "CasePA            0\n",
            "CasePB       422314\n",
            "FLP               0\n",
            "FLT               0\n",
            "Vol               0\n",
            "TubP              0\n",
            "dtype: int64\n"
          ],
          "name": "stdout"
        }
      ]
    },
    {
      "cell_type": "code",
      "metadata": {
        "id": "SSqnskcI3Nnc",
        "colab_type": "code",
        "outputId": "1ce4dcf8-e1d1-481a-e177-a78487bb55a2",
        "colab": {
          "base_uri": "https://localhost:8080/",
          "height": 308
        }
      },
      "source": [
        "#set index name, initial plot\n",
        "df.index.name = 'Timestamp'\n",
        "df.set_index('Timestamp')['Vol'].plot()"
      ],
      "execution_count": 0,
      "outputs": [
        {
          "output_type": "execute_result",
          "data": {
            "text/plain": [
              "<matplotlib.axes._subplots.AxesSubplot at 0x7f882d7ad470>"
            ]
          },
          "metadata": {
            "tags": []
          },
          "execution_count": 6
        },
        {
          "output_type": "display_data",
          "data": {
            "image/png": "[encoded data removed]",
            "text/plain": [
              "<Figure size 432x288 with 1 Axes>"
            ]
          },
          "metadata": {
            "tags": [],
            "needs_background": "light"
          }
        }
      ]
    },
    {
      "cell_type": "code",
      "metadata": {
        "id": "mkcnELNb3W38",
        "colab_type": "code",
        "outputId": "c5fc3632-6a31-415f-8e1c-05a993a4f0ff",
        "colab": {
          "base_uri": "https://localhost:8080/",
          "height": 296
        }
      },
      "source": [
        "#QC outliers\n",
        "sns.boxplot(x=df['Vol'])\n",
        "iqr = df['Vol'].quantile(.75)-df['Vol'].quantile(.25)\n",
        "outlier = 1.5*iqr\n",
        "outlier\n",
        "\n",
        "count = 0\n",
        "for i in df['Vol']:\n",
        "    if i <outlier:\n",
        "        count += 1\n",
        "print(count)"
      ],
      "execution_count": 0,
      "outputs": [
        {
          "output_type": "stream",
          "text": [
            "62666\n"
          ],
          "name": "stdout"
        },
        {
          "output_type": "display_data",
          "data": {
            "image/png": "[encoded data removed]",
            "text/plain": [
              "<Figure size 432x288 with 1 Axes>"
            ]
          },
          "metadata": {
            "tags": [],
            "needs_background": "light"
          }
        }
      ]
    },
    {
      "cell_type": "code",
      "metadata": {
        "id": "yCw_N9Zc3bOb",
        "colab_type": "code",
        "colab": {}
      },
      "source": [
        "#Identify where volume = 0\n",
        "PM = []\n",
        "\n",
        "for i in df['Vol']:\n",
        "    if i == 0:\n",
        "        PM.append(1)\n",
        "    else:\n",
        "        PM.append(0)\n",
        "df['PM'] = PM"
      ],
      "execution_count": 0,
      "outputs": []
    },
    {
      "cell_type": "code",
      "metadata": {
        "id": "UNFO5-ZF4GLg",
        "colab_type": "code",
        "colab": {}
      },
      "source": [
        "df = df[(df[['PM']] == 0).all(axis=1)]  # Remove Volume = 0"
      ],
      "execution_count": 0,
      "outputs": []
    },
    {
      "cell_type": "code",
      "metadata": {
        "id": "8Ffr_4d54eoW",
        "colab_type": "code",
        "colab": {}
      },
      "source": [
        "df = df[(df[['CasePA']] >= 0).all(axis=1)]  # Remove bad sensor data\n",
        "df = df[(df[['CasePB']] >= 0).all(axis=1)]  # Remove bad sensor data\n",
        "df = df[(df[['FLP']] >= 0).all(axis=1)]  # Remove bad sensor data\n",
        "df = df[(df[['FLT']] >= 0).all(axis=1)]  # Remove bad sensor data\n",
        "df = df[(df[['Vol']] >= 0).all(axis=1)]  # Remove bad sensor data\n"
      ],
      "execution_count": 0,
      "outputs": []
    },
    {
      "cell_type": "code",
      "metadata": {
        "id": "BY0INM1y4j7G",
        "colab_type": "code",
        "colab": {}
      },
      "source": [
        "df = df.drop(['PM'],axis = 1)"
      ],
      "execution_count": 0,
      "outputs": []
    },
    {
      "cell_type": "markdown",
      "metadata": {
        "id": "FlMuaM4I1VJk",
        "colab_type": "text"
      },
      "source": [
        "### Import Preprocessed LSTM dataset from Google drive ###"
      ]
    },
    {
      "cell_type": "code",
      "metadata": {
        "id": "I3nDvOCiarT_",
        "colab_type": "code",
        "outputId": "641c50e3-95bc-4b83-b49a-4e952902998a",
        "colab": {
          "base_uri": "https://localhost:8080/",
          "height": 34
        }
      },
      "source": [
        "#from google.colab import drive\n",
        "#drive.mount('/content/drive')"
      ],
      "execution_count": 0,
      "outputs": [
        {
          "output_type": "stream",
          "text": [
            "Drive already mounted at /content/drive; to attempt to forcibly remount, call drive.mount(\"/content/drive\", force_remount=True).\n"
          ],
          "name": "stdout"
        }
      ]
    },
    {
      "cell_type": "code",
      "metadata": {
        "id": "mBJ6I8mp-VFv",
        "colab_type": "code",
        "outputId": "102c3fc4-065d-4567-8f49-024cf6eb34e0",
        "colab": {
          "base_uri": "https://localhost:8080/",
          "height": 235
        }
      },
      "source": [
        "#path = \"/content/drive/My Drive/CANDY_CANE_LSTM_Input.csv\"\n",
        "#df = pd.read_csv(path)\n",
        "df.head()"
      ],
      "execution_count": 0,
      "outputs": [
        {
          "output_type": "execute_result",
          "data": {
            "text/html": [
              "<div>\n",
              "<style scoped>\n",
              "    .dataframe tbody tr th:only-of-type {\n",
              "        vertical-align: middle;\n",
              "    }\n",
              "\n",
              "    .dataframe tbody tr th {\n",
              "        vertical-align: top;\n",
              "    }\n",
              "\n",
              "    .dataframe thead th {\n",
              "        text-align: right;\n",
              "    }\n",
              "</style>\n",
              "<table border=\"1\" class=\"dataframe\">\n",
              "  <thead>\n",
              "    <tr style=\"text-align: right;\">\n",
              "      <th></th>\n",
              "      <th>Timestamp</th>\n",
              "      <th>CasePA</th>\n",
              "      <th>CasePB</th>\n",
              "      <th>FLP</th>\n",
              "      <th>FLT</th>\n",
              "      <th>Vol</th>\n",
              "      <th>TubP</th>\n",
              "    </tr>\n",
              "    <tr>\n",
              "      <th>Timestamp</th>\n",
              "      <th></th>\n",
              "      <th></th>\n",
              "      <th></th>\n",
              "      <th></th>\n",
              "      <th></th>\n",
              "      <th></th>\n",
              "      <th></th>\n",
              "    </tr>\n",
              "  </thead>\n",
              "  <tbody>\n",
              "    <tr>\n",
              "      <th>0</th>\n",
              "      <td>2017-08-24 16:58:00</td>\n",
              "      <td>1702.092165</td>\n",
              "      <td>974.964683</td>\n",
              "      <td>542.902226</td>\n",
              "      <td>52.348799</td>\n",
              "      <td>6830.762999</td>\n",
              "      <td>971.477766</td>\n",
              "    </tr>\n",
              "    <tr>\n",
              "      <th>1</th>\n",
              "      <td>2017-08-24 16:59:00</td>\n",
              "      <td>1702.092165</td>\n",
              "      <td>974.964683</td>\n",
              "      <td>542.902226</td>\n",
              "      <td>52.348799</td>\n",
              "      <td>6830.762999</td>\n",
              "      <td>971.477766</td>\n",
              "    </tr>\n",
              "    <tr>\n",
              "      <th>2</th>\n",
              "      <td>2017-08-24 17:00:00</td>\n",
              "      <td>1702.092165</td>\n",
              "      <td>974.964683</td>\n",
              "      <td>542.902226</td>\n",
              "      <td>52.348799</td>\n",
              "      <td>6830.762999</td>\n",
              "      <td>971.477766</td>\n",
              "    </tr>\n",
              "    <tr>\n",
              "      <th>3</th>\n",
              "      <td>2017-08-24 17:01:00</td>\n",
              "      <td>1702.092165</td>\n",
              "      <td>974.964683</td>\n",
              "      <td>542.902226</td>\n",
              "      <td>52.348799</td>\n",
              "      <td>6830.762999</td>\n",
              "      <td>971.477766</td>\n",
              "    </tr>\n",
              "    <tr>\n",
              "      <th>4</th>\n",
              "      <td>2017-08-24 17:02:00</td>\n",
              "      <td>1702.092165</td>\n",
              "      <td>974.964683</td>\n",
              "      <td>542.902226</td>\n",
              "      <td>52.348799</td>\n",
              "      <td>6830.762999</td>\n",
              "      <td>971.477766</td>\n",
              "    </tr>\n",
              "  </tbody>\n",
              "</table>\n",
              "</div>"
            ],
            "text/plain": [
              "                    Timestamp       CasePA  ...          Vol        TubP\n",
              "Timestamp                                   ...                         \n",
              "0         2017-08-24 16:58:00  1702.092165  ...  6830.762999  971.477766\n",
              "1         2017-08-24 16:59:00  1702.092165  ...  6830.762999  971.477766\n",
              "2         2017-08-24 17:00:00  1702.092165  ...  6830.762999  971.477766\n",
              "3         2017-08-24 17:01:00  1702.092165  ...  6830.762999  971.477766\n",
              "4         2017-08-24 17:02:00  1702.092165  ...  6830.762999  971.477766\n",
              "\n",
              "[5 rows x 7 columns]"
            ]
          },
          "metadata": {
            "tags": []
          },
          "execution_count": 12
        }
      ]
    },
    {
      "cell_type": "code",
      "metadata": {
        "id": "nT8tQ7EKal_Z",
        "colab_type": "code",
        "outputId": "a785a879-94f4-46b0-8f22-f521b961ef16",
        "colab": {
          "base_uri": "https://localhost:8080/",
          "height": 267
        }
      },
      "source": [
        "#df = df.drop(['Timestamp'],axis=1)  \n",
        "#df = df.rename(columns={'Timestamp.1':'Timestamp'})\n",
        "df['Timestamp'] = pd.to_datetime(df['Timestamp'])\n",
        "\n",
        "# specify columns to plot\n",
        "values = df.values\n",
        "groups = [1, 2, 3, 4, 5, 6]\n",
        "i = 1\n",
        "# plot each column\n",
        "pyplot.figure()\n",
        "for group in groups:\n",
        "\tpyplot.subplot(len(groups), 1, i)\n",
        "\tpyplot.plot(values[:, group])\n",
        "\tpyplot.title(df.columns[group], y=0.5, loc='right')\n",
        "\ti += 1\n",
        "pyplot.show()\n",
        "\n"
      ],
      "execution_count": 0,
      "outputs": [
        {
          "output_type": "display_data",
          "data": {
            "image/png": "[encoded data removed]",
            "text/plain": [
              "<Figure size 432x288 with 6 Axes>"
            ]
          },
          "metadata": {
            "tags": [],
            "needs_background": "light"
          }
        }
      ]
    },
    {
      "cell_type": "markdown",
      "metadata": {
        "id": "h8S102vE4zLz",
        "colab_type": "text"
      },
      "source": [
        "### Select working dataframe i.e. one month or one year ###"
      ]
    },
    {
      "cell_type": "code",
      "metadata": {
        "id": "wSOvK8Gz_6qZ",
        "colab_type": "code",
        "outputId": "85a99ae2-a484-4fe3-bf04-bbb2ed70920a",
        "colab": {
          "base_uri": "https://localhost:8080/",
          "height": 235
        }
      },
      "source": [
        "### Jan 2018 ###\n",
        "#df = df[df['Timestamp'].dt.year >= 2018]  \n",
        "#df = df[df['Timestamp'].dt.month < 2]\n",
        "\n",
        "### 2018 ###\n",
        "df = df[df['Timestamp'].dt.year >= 2018]  \n",
        "\n",
        "df = df.set_index('Timestamp')\n",
        "\n",
        "df.head()\n"
      ],
      "execution_count": 0,
      "outputs": [
        {
          "output_type": "execute_result",
          "data": {
            "text/html": [
              "<div>\n",
              "<style scoped>\n",
              "    .dataframe tbody tr th:only-of-type {\n",
              "        vertical-align: middle;\n",
              "    }\n",
              "\n",
              "    .dataframe tbody tr th {\n",
              "        vertical-align: top;\n",
              "    }\n",
              "\n",
              "    .dataframe thead th {\n",
              "        text-align: right;\n",
              "    }\n",
              "</style>\n",
              "<table border=\"1\" class=\"dataframe\">\n",
              "  <thead>\n",
              "    <tr style=\"text-align: right;\">\n",
              "      <th></th>\n",
              "      <th>CasePA</th>\n",
              "      <th>CasePB</th>\n",
              "      <th>FLP</th>\n",
              "      <th>FLT</th>\n",
              "      <th>Vol</th>\n",
              "      <th>TubP</th>\n",
              "    </tr>\n",
              "    <tr>\n",
              "      <th>Timestamp</th>\n",
              "      <th></th>\n",
              "      <th></th>\n",
              "      <th></th>\n",
              "      <th></th>\n",
              "      <th></th>\n",
              "      <th></th>\n",
              "    </tr>\n",
              "  </thead>\n",
              "  <tbody>\n",
              "    <tr>\n",
              "      <th>2018-01-01 00:00:00</th>\n",
              "      <td>2070.508057</td>\n",
              "      <td>1326.526569</td>\n",
              "      <td>648.307800</td>\n",
              "      <td>41.032509</td>\n",
              "      <td>8538.653320</td>\n",
              "      <td>1271.876099</td>\n",
              "    </tr>\n",
              "    <tr>\n",
              "      <th>2018-01-01 00:01:00</th>\n",
              "      <td>2070.637695</td>\n",
              "      <td>1326.473592</td>\n",
              "      <td>667.404175</td>\n",
              "      <td>41.602646</td>\n",
              "      <td>8496.515625</td>\n",
              "      <td>1271.616821</td>\n",
              "    </tr>\n",
              "    <tr>\n",
              "      <th>2018-01-01 00:02:00</th>\n",
              "      <td>2070.637695</td>\n",
              "      <td>1326.420614</td>\n",
              "      <td>667.404175</td>\n",
              "      <td>41.602646</td>\n",
              "      <td>8496.515625</td>\n",
              "      <td>1271.616821</td>\n",
              "    </tr>\n",
              "    <tr>\n",
              "      <th>2018-01-01 00:03:00</th>\n",
              "      <td>2070.637695</td>\n",
              "      <td>1326.367636</td>\n",
              "      <td>667.404175</td>\n",
              "      <td>41.602646</td>\n",
              "      <td>8496.515625</td>\n",
              "      <td>1271.616821</td>\n",
              "    </tr>\n",
              "    <tr>\n",
              "      <th>2018-01-01 00:04:00</th>\n",
              "      <td>2070.637695</td>\n",
              "      <td>1326.314659</td>\n",
              "      <td>667.404175</td>\n",
              "      <td>41.602646</td>\n",
              "      <td>8496.515625</td>\n",
              "      <td>1271.616821</td>\n",
              "    </tr>\n",
              "  </tbody>\n",
              "</table>\n",
              "</div>"
            ],
            "text/plain": [
              "                          CasePA       CasePB  ...          Vol         TubP\n",
              "Timestamp                                      ...                          \n",
              "2018-01-01 00:00:00  2070.508057  1326.526569  ...  8538.653320  1271.876099\n",
              "2018-01-01 00:01:00  2070.637695  1326.473592  ...  8496.515625  1271.616821\n",
              "2018-01-01 00:02:00  2070.637695  1326.420614  ...  8496.515625  1271.616821\n",
              "2018-01-01 00:03:00  2070.637695  1326.367636  ...  8496.515625  1271.616821\n",
              "2018-01-01 00:04:00  2070.637695  1326.314659  ...  8496.515625  1271.616821\n",
              "\n",
              "[5 rows x 6 columns]"
            ]
          },
          "metadata": {
            "tags": []
          },
          "execution_count": 14
        }
      ]
    },
    {
      "cell_type": "code",
      "metadata": {
        "id": "BDZi-EUlRbrU",
        "colab_type": "code",
        "outputId": "542f9f6f-8471-4fee-98b8-4a27471e9256",
        "colab": {
          "base_uri": "https://localhost:8080/",
          "height": 34
        }
      },
      "source": [
        "df.shape"
      ],
      "execution_count": 0,
      "outputs": [
        {
          "output_type": "execute_result",
          "data": {
            "text/plain": [
              "(232768, 6)"
            ]
          },
          "metadata": {
            "tags": []
          },
          "execution_count": 15
        }
      ]
    },
    {
      "cell_type": "code",
      "metadata": {
        "id": "jnrryUi2_ReV",
        "colab_type": "code",
        "outputId": "3556c430-ef32-488e-b73b-5db423840ba0",
        "colab": {
          "base_uri": "https://localhost:8080/",
          "height": 267
        }
      },
      "source": [
        "# specify columns to plot\n",
        "values = df.values\n",
        "groups = [0, 1, 2, 3, 4, 5]\n",
        "i = 1\n",
        "# plot each column\n",
        "pyplot.figure()\n",
        "for group in groups:\n",
        "\tpyplot.subplot(len(groups), 1, i)\n",
        "\tpyplot.plot(values[:, group])\n",
        "\tpyplot.title(df.columns[group], y=0.5, loc='right')\n",
        "\ti += 1\n",
        "pyplot.show()"
      ],
      "execution_count": 0,
      "outputs": [
        {
          "output_type": "display_data",
          "data": {
            "image/png": "[encoded data removed]",
            "text/plain": [
              "<Figure size 432x288 with 6 Axes>"
            ]
          },
          "metadata": {
            "tags": [],
            "needs_background": "light"
          }
        }
      ]
    },
    {
      "cell_type": "code",
      "metadata": {
        "id": "Mt5vIOfDbZZ9",
        "colab_type": "code",
        "outputId": "ea37c29d-e7a9-4b99-a414-7844df764a1c",
        "colab": {
          "base_uri": "https://localhost:8080/",
          "height": 235
        }
      },
      "source": [
        "### Select Variables for analysis ###\n",
        "\n",
        "df_casePA = df.iloc[:,0]\n",
        "df_casePB = df.iloc[:,1]\n",
        "df_flp = df.iloc[:,2]\n",
        "df_flt = df.iloc[:,3]\n",
        "df_tub = df.iloc[:,5]\n",
        "df_vol = df.iloc[:,4]\n",
        "#frame = [df_casePA, df_casePB, df_flp, df_flt, df_tub, df_vol] ## all variables\n",
        "frame = [df_flp, df_vol] ### flow line pressure as predictor variable\n",
        "\n",
        "df_volume = pd.DataFrame(frame).T\n",
        "df_volume.head()"
      ],
      "execution_count": 0,
      "outputs": [
        {
          "output_type": "execute_result",
          "data": {
            "text/html": [
              "<div>\n",
              "<style scoped>\n",
              "    .dataframe tbody tr th:only-of-type {\n",
              "        vertical-align: middle;\n",
              "    }\n",
              "\n",
              "    .dataframe tbody tr th {\n",
              "        vertical-align: top;\n",
              "    }\n",
              "\n",
              "    .dataframe thead th {\n",
              "        text-align: right;\n",
              "    }\n",
              "</style>\n",
              "<table border=\"1\" class=\"dataframe\">\n",
              "  <thead>\n",
              "    <tr style=\"text-align: right;\">\n",
              "      <th></th>\n",
              "      <th>FLP</th>\n",
              "      <th>Vol</th>\n",
              "    </tr>\n",
              "    <tr>\n",
              "      <th>Timestamp</th>\n",
              "      <th></th>\n",
              "      <th></th>\n",
              "    </tr>\n",
              "  </thead>\n",
              "  <tbody>\n",
              "    <tr>\n",
              "      <th>2018-01-01 00:00:00</th>\n",
              "      <td>648.307800</td>\n",
              "      <td>8538.653320</td>\n",
              "    </tr>\n",
              "    <tr>\n",
              "      <th>2018-01-01 00:01:00</th>\n",
              "      <td>667.404175</td>\n",
              "      <td>8496.515625</td>\n",
              "    </tr>\n",
              "    <tr>\n",
              "      <th>2018-01-01 00:02:00</th>\n",
              "      <td>667.404175</td>\n",
              "      <td>8496.515625</td>\n",
              "    </tr>\n",
              "    <tr>\n",
              "      <th>2018-01-01 00:03:00</th>\n",
              "      <td>667.404175</td>\n",
              "      <td>8496.515625</td>\n",
              "    </tr>\n",
              "    <tr>\n",
              "      <th>2018-01-01 00:04:00</th>\n",
              "      <td>667.404175</td>\n",
              "      <td>8496.515625</td>\n",
              "    </tr>\n",
              "  </tbody>\n",
              "</table>\n",
              "</div>"
            ],
            "text/plain": [
              "                            FLP          Vol\n",
              "Timestamp                                   \n",
              "2018-01-01 00:00:00  648.307800  8538.653320\n",
              "2018-01-01 00:01:00  667.404175  8496.515625\n",
              "2018-01-01 00:02:00  667.404175  8496.515625\n",
              "2018-01-01 00:03:00  667.404175  8496.515625\n",
              "2018-01-01 00:04:00  667.404175  8496.515625"
            ]
          },
          "metadata": {
            "tags": []
          },
          "execution_count": 17
        }
      ]
    },
    {
      "cell_type": "code",
      "metadata": {
        "id": "DkDb9kugg8xO",
        "colab_type": "code",
        "outputId": "54a292b7-553d-45ee-f9e6-8cb9c206aeaa",
        "colab": {
          "base_uri": "https://localhost:8080/",
          "height": 294
        }
      },
      "source": [
        "#df_volume.index.name = 'Timestamp'\n",
        "#df_volume.set_index('Timestamp')['Vol'].plot()\n",
        "\n",
        "df_volume['Vol'].plot()"
      ],
      "execution_count": 0,
      "outputs": [
        {
          "output_type": "execute_result",
          "data": {
            "text/plain": [
              "<matplotlib.axes._subplots.AxesSubplot at 0x7f88340bbd30>"
            ]
          },
          "metadata": {
            "tags": []
          },
          "execution_count": 18
        },
        {
          "output_type": "display_data",
          "data": {
            "image/png": "[encoded data removed]",
            "text/plain": [
              "<Figure size 432x288 with 1 Axes>"
            ]
          },
          "metadata": {
            "tags": [],
            "needs_background": "light"
          }
        }
      ]
    },
    {
      "cell_type": "markdown",
      "metadata": {
        "id": "BpQbe5RG5DzZ",
        "colab_type": "text"
      },
      "source": [
        "### Prepare dataframe for time series learning ###"
      ]
    },
    {
      "cell_type": "code",
      "metadata": {
        "id": "kdVL1CX9Efb9",
        "colab_type": "code",
        "colab": {}
      },
      "source": [
        "def series_to_supervised(data, n_in=1, n_out=1, dropnan=True):\n",
        "\t\n",
        "\tn_vars = 1 if type(data) is list else data.shape[1]\n",
        "\tdf = pd.DataFrame(data)\n",
        "\tcols, names = list(), list()\n",
        "\t# input sequence (t-n, ... t-1)\n",
        "\tfor i in range(n_in, 0, -1):\n",
        "\t\tcols.append(df.shift(i))\n",
        "\t\tnames += [('var%d(t-%d)' % (j+1, i)) for j in range(n_vars)]\n",
        "\t# forecast sequence (t, t+1, ... t+n)\n",
        "\tfor i in range(0, n_out):\n",
        "\t\tcols.append(df.shift(-i))\n",
        "\t\tif i == 0:\n",
        "\t\t\tnames += [('var%d(t)' % (j+1)) for j in range(n_vars)]\n",
        "\t\telse:\n",
        "\t\t\tnames += [('var%d(t+%d)' % (j+1, i)) for j in range(n_vars)]\n",
        "\t# put it all together\n",
        "\tagg = pd.concat(cols, axis=1)\n",
        "\tagg.columns = names\n",
        "\t# drop rows with NaN values\n",
        "\tif dropnan:\n",
        "\t\tagg.dropna(inplace=True)\n",
        "\treturn agg\n"
      ],
      "execution_count": 0,
      "outputs": []
    },
    {
      "cell_type": "code",
      "metadata": {
        "id": "dyoRxQa3PqrN",
        "colab_type": "code",
        "outputId": "f01ac8bb-e8cf-401a-b404-36cc655caad6",
        "colab": {
          "base_uri": "https://localhost:8080/",
          "height": 182
        }
      },
      "source": [
        "a = series_to_supervised(df_volume, 5, 1 )\n",
        "a.head(1)"
      ],
      "execution_count": 0,
      "outputs": [
        {
          "output_type": "execute_result",
          "data": {
            "text/html": [
              "<div>\n",
              "<style scoped>\n",
              "    .dataframe tbody tr th:only-of-type {\n",
              "        vertical-align: middle;\n",
              "    }\n",
              "\n",
              "    .dataframe tbody tr th {\n",
              "        vertical-align: top;\n",
              "    }\n",
              "\n",
              "    .dataframe thead th {\n",
              "        text-align: right;\n",
              "    }\n",
              "</style>\n",
              "<table border=\"1\" class=\"dataframe\">\n",
              "  <thead>\n",
              "    <tr style=\"text-align: right;\">\n",
              "      <th></th>\n",
              "      <th>var1(t-5)</th>\n",
              "      <th>var2(t-5)</th>\n",
              "      <th>var1(t-4)</th>\n",
              "      <th>var2(t-4)</th>\n",
              "      <th>var1(t-3)</th>\n",
              "      <th>var2(t-3)</th>\n",
              "      <th>var1(t-2)</th>\n",
              "      <th>var2(t-2)</th>\n",
              "      <th>var1(t-1)</th>\n",
              "      <th>var2(t-1)</th>\n",
              "      <th>var1(t)</th>\n",
              "      <th>var2(t)</th>\n",
              "    </tr>\n",
              "    <tr>\n",
              "      <th>Timestamp</th>\n",
              "      <th></th>\n",
              "      <th></th>\n",
              "      <th></th>\n",
              "      <th></th>\n",
              "      <th></th>\n",
              "      <th></th>\n",
              "      <th></th>\n",
              "      <th></th>\n",
              "      <th></th>\n",
              "      <th></th>\n",
              "      <th></th>\n",
              "      <th></th>\n",
              "    </tr>\n",
              "  </thead>\n",
              "  <tbody>\n",
              "    <tr>\n",
              "      <th>2018-01-01 00:05:00</th>\n",
              "      <td>648.3078</td>\n",
              "      <td>8538.65332</td>\n",
              "      <td>667.404175</td>\n",
              "      <td>8496.515625</td>\n",
              "      <td>667.404175</td>\n",
              "      <td>8496.515625</td>\n",
              "      <td>667.404175</td>\n",
              "      <td>8496.515625</td>\n",
              "      <td>667.404175</td>\n",
              "      <td>8496.515625</td>\n",
              "      <td>667.404175</td>\n",
              "      <td>8496.515625</td>\n",
              "    </tr>\n",
              "  </tbody>\n",
              "</table>\n",
              "</div>"
            ],
            "text/plain": [
              "                     var1(t-5)   var2(t-5)  ...     var1(t)      var2(t)\n",
              "Timestamp                                   ...                         \n",
              "2018-01-01 00:05:00   648.3078  8538.65332  ...  667.404175  8496.515625\n",
              "\n",
              "[1 rows x 12 columns]"
            ]
          },
          "metadata": {
            "tags": []
          },
          "execution_count": 20
        }
      ]
    },
    {
      "cell_type": "code",
      "metadata": {
        "id": "Q9KCRMiATwnm",
        "colab_type": "code",
        "outputId": "5d191227-1b66-402a-cfe5-91ecb9af6c35",
        "colab": {
          "base_uri": "https://localhost:8080/",
          "height": 241
        }
      },
      "source": [
        "values = df_volume.values\n",
        "\n",
        "## integer encode direction\n",
        "#encoder = LabelEncoder()\n",
        "#values[:,5] = encoder.fit_transform(values[:,5])\n",
        "\n",
        "# ensure all data is float\n",
        "values = values.astype('float32')\n",
        "\n",
        "# normalize features\n",
        "scaler = MinMaxScaler(feature_range=(-1, 1))  ### default activation function in LSTM is tanh ###\n",
        "scaled = scaler.fit_transform(values)\n",
        "# frame as supervised learning\n",
        "reframed = series_to_supervised(scaled, 15, 1)  ### specify how many minutes to look back ###\n",
        "# drop columns we don't want to predict\n",
        "reframed.drop(reframed.columns[-2], axis=1, inplace=True)  ### drop columns dependent on number of variables ###\n",
        "reframed.head()"
      ],
      "execution_count": 0,
      "outputs": [
        {
          "output_type": "execute_result",
          "data": {
            "text/html": [
              "<div>\n",
              "<style scoped>\n",
              "    .dataframe tbody tr th:only-of-type {\n",
              "        vertical-align: middle;\n",
              "    }\n",
              "\n",
              "    .dataframe tbody tr th {\n",
              "        vertical-align: top;\n",
              "    }\n",
              "\n",
              "    .dataframe thead th {\n",
              "        text-align: right;\n",
              "    }\n",
              "</style>\n",
              "<table border=\"1\" class=\"dataframe\">\n",
              "  <thead>\n",
              "    <tr style=\"text-align: right;\">\n",
              "      <th></th>\n",
              "      <th>var1(t-15)</th>\n",
              "      <th>var2(t-15)</th>\n",
              "      <th>var1(t-14)</th>\n",
              "      <th>var2(t-14)</th>\n",
              "      <th>var1(t-13)</th>\n",
              "      <th>var2(t-13)</th>\n",
              "      <th>var1(t-12)</th>\n",
              "      <th>var2(t-12)</th>\n",
              "      <th>var1(t-11)</th>\n",
              "      <th>var2(t-11)</th>\n",
              "      <th>var1(t-10)</th>\n",
              "      <th>var2(t-10)</th>\n",
              "      <th>var1(t-9)</th>\n",
              "      <th>var2(t-9)</th>\n",
              "      <th>var1(t-8)</th>\n",
              "      <th>var2(t-8)</th>\n",
              "      <th>var1(t-7)</th>\n",
              "      <th>var2(t-7)</th>\n",
              "      <th>var1(t-6)</th>\n",
              "      <th>var2(t-6)</th>\n",
              "      <th>var1(t-5)</th>\n",
              "      <th>var2(t-5)</th>\n",
              "      <th>var1(t-4)</th>\n",
              "      <th>var2(t-4)</th>\n",
              "      <th>var1(t-3)</th>\n",
              "      <th>var2(t-3)</th>\n",
              "      <th>var1(t-2)</th>\n",
              "      <th>var2(t-2)</th>\n",
              "      <th>var1(t-1)</th>\n",
              "      <th>var2(t-1)</th>\n",
              "      <th>var2(t)</th>\n",
              "    </tr>\n",
              "  </thead>\n",
              "  <tbody>\n",
              "    <tr>\n",
              "      <th>15</th>\n",
              "      <td>-0.057326</td>\n",
              "      <td>0.464873</td>\n",
              "      <td>-0.029542</td>\n",
              "      <td>0.457643</td>\n",
              "      <td>-0.029542</td>\n",
              "      <td>0.457643</td>\n",
              "      <td>-0.029542</td>\n",
              "      <td>0.457643</td>\n",
              "      <td>-0.029542</td>\n",
              "      <td>0.457643</td>\n",
              "      <td>-0.029542</td>\n",
              "      <td>0.457643</td>\n",
              "      <td>-0.029542</td>\n",
              "      <td>0.457643</td>\n",
              "      <td>-0.029542</td>\n",
              "      <td>0.457643</td>\n",
              "      <td>-0.029542</td>\n",
              "      <td>0.457643</td>\n",
              "      <td>-0.029542</td>\n",
              "      <td>0.457643</td>\n",
              "      <td>-0.029542</td>\n",
              "      <td>0.457643</td>\n",
              "      <td>-0.029542</td>\n",
              "      <td>0.457643</td>\n",
              "      <td>-0.029542</td>\n",
              "      <td>0.457643</td>\n",
              "      <td>-0.029542</td>\n",
              "      <td>0.457643</td>\n",
              "      <td>-0.029542</td>\n",
              "      <td>0.457643</td>\n",
              "      <td>0.458316</td>\n",
              "    </tr>\n",
              "    <tr>\n",
              "      <th>16</th>\n",
              "      <td>-0.029542</td>\n",
              "      <td>0.457643</td>\n",
              "      <td>-0.029542</td>\n",
              "      <td>0.457643</td>\n",
              "      <td>-0.029542</td>\n",
              "      <td>0.457643</td>\n",
              "      <td>-0.029542</td>\n",
              "      <td>0.457643</td>\n",
              "      <td>-0.029542</td>\n",
              "      <td>0.457643</td>\n",
              "      <td>-0.029542</td>\n",
              "      <td>0.457643</td>\n",
              "      <td>-0.029542</td>\n",
              "      <td>0.457643</td>\n",
              "      <td>-0.029542</td>\n",
              "      <td>0.457643</td>\n",
              "      <td>-0.029542</td>\n",
              "      <td>0.457643</td>\n",
              "      <td>-0.029542</td>\n",
              "      <td>0.457643</td>\n",
              "      <td>-0.029542</td>\n",
              "      <td>0.457643</td>\n",
              "      <td>-0.029542</td>\n",
              "      <td>0.457643</td>\n",
              "      <td>-0.029542</td>\n",
              "      <td>0.457643</td>\n",
              "      <td>-0.029542</td>\n",
              "      <td>0.457643</td>\n",
              "      <td>-0.023913</td>\n",
              "      <td>0.458316</td>\n",
              "      <td>0.459196</td>\n",
              "    </tr>\n",
              "    <tr>\n",
              "      <th>17</th>\n",
              "      <td>-0.029542</td>\n",
              "      <td>0.457643</td>\n",
              "      <td>-0.029542</td>\n",
              "      <td>0.457643</td>\n",
              "      <td>-0.029542</td>\n",
              "      <td>0.457643</td>\n",
              "      <td>-0.029542</td>\n",
              "      <td>0.457643</td>\n",
              "      <td>-0.029542</td>\n",
              "      <td>0.457643</td>\n",
              "      <td>-0.029542</td>\n",
              "      <td>0.457643</td>\n",
              "      <td>-0.029542</td>\n",
              "      <td>0.457643</td>\n",
              "      <td>-0.029542</td>\n",
              "      <td>0.457643</td>\n",
              "      <td>-0.029542</td>\n",
              "      <td>0.457643</td>\n",
              "      <td>-0.029542</td>\n",
              "      <td>0.457643</td>\n",
              "      <td>-0.029542</td>\n",
              "      <td>0.457643</td>\n",
              "      <td>-0.029542</td>\n",
              "      <td>0.457643</td>\n",
              "      <td>-0.029542</td>\n",
              "      <td>0.457643</td>\n",
              "      <td>-0.023913</td>\n",
              "      <td>0.458316</td>\n",
              "      <td>-0.016552</td>\n",
              "      <td>0.459196</td>\n",
              "      <td>0.459196</td>\n",
              "    </tr>\n",
              "    <tr>\n",
              "      <th>18</th>\n",
              "      <td>-0.029542</td>\n",
              "      <td>0.457643</td>\n",
              "      <td>-0.029542</td>\n",
              "      <td>0.457643</td>\n",
              "      <td>-0.029542</td>\n",
              "      <td>0.457643</td>\n",
              "      <td>-0.029542</td>\n",
              "      <td>0.457643</td>\n",
              "      <td>-0.029542</td>\n",
              "      <td>0.457643</td>\n",
              "      <td>-0.029542</td>\n",
              "      <td>0.457643</td>\n",
              "      <td>-0.029542</td>\n",
              "      <td>0.457643</td>\n",
              "      <td>-0.029542</td>\n",
              "      <td>0.457643</td>\n",
              "      <td>-0.029542</td>\n",
              "      <td>0.457643</td>\n",
              "      <td>-0.029542</td>\n",
              "      <td>0.457643</td>\n",
              "      <td>-0.029542</td>\n",
              "      <td>0.457643</td>\n",
              "      <td>-0.029542</td>\n",
              "      <td>0.457643</td>\n",
              "      <td>-0.023913</td>\n",
              "      <td>0.458316</td>\n",
              "      <td>-0.016552</td>\n",
              "      <td>0.459196</td>\n",
              "      <td>-0.016552</td>\n",
              "      <td>0.459196</td>\n",
              "      <td>0.459196</td>\n",
              "    </tr>\n",
              "    <tr>\n",
              "      <th>19</th>\n",
              "      <td>-0.029542</td>\n",
              "      <td>0.457643</td>\n",
              "      <td>-0.029542</td>\n",
              "      <td>0.457643</td>\n",
              "      <td>-0.029542</td>\n",
              "      <td>0.457643</td>\n",
              "      <td>-0.029542</td>\n",
              "      <td>0.457643</td>\n",
              "      <td>-0.029542</td>\n",
              "      <td>0.457643</td>\n",
              "      <td>-0.029542</td>\n",
              "      <td>0.457643</td>\n",
              "      <td>-0.029542</td>\n",
              "      <td>0.457643</td>\n",
              "      <td>-0.029542</td>\n",
              "      <td>0.457643</td>\n",
              "      <td>-0.029542</td>\n",
              "      <td>0.457643</td>\n",
              "      <td>-0.029542</td>\n",
              "      <td>0.457643</td>\n",
              "      <td>-0.029542</td>\n",
              "      <td>0.457643</td>\n",
              "      <td>-0.023913</td>\n",
              "      <td>0.458316</td>\n",
              "      <td>-0.016552</td>\n",
              "      <td>0.459196</td>\n",
              "      <td>-0.016552</td>\n",
              "      <td>0.459196</td>\n",
              "      <td>-0.016552</td>\n",
              "      <td>0.459196</td>\n",
              "      <td>0.459196</td>\n",
              "    </tr>\n",
              "  </tbody>\n",
              "</table>\n",
              "</div>"
            ],
            "text/plain": [
              "    var1(t-15)  var2(t-15)  var1(t-14)  ...  var1(t-1)  var2(t-1)   var2(t)\n",
              "15   -0.057326    0.464873   -0.029542  ...  -0.029542   0.457643  0.458316\n",
              "16   -0.029542    0.457643   -0.029542  ...  -0.023913   0.458316  0.459196\n",
              "17   -0.029542    0.457643   -0.029542  ...  -0.016552   0.459196  0.459196\n",
              "18   -0.029542    0.457643   -0.029542  ...  -0.016552   0.459196  0.459196\n",
              "19   -0.029542    0.457643   -0.029542  ...  -0.016552   0.459196  0.459196\n",
              "\n",
              "[5 rows x 31 columns]"
            ]
          },
          "metadata": {
            "tags": []
          },
          "execution_count": 21
        }
      ]
    },
    {
      "cell_type": "markdown",
      "metadata": {
        "id": "5gKta9WNP6ma",
        "colab_type": "text"
      },
      "source": [
        "###**Basic Architecture**\n"
      ]
    },
    {
      "cell_type": "code",
      "metadata": {
        "id": "HdgcvoJ3lIHa",
        "colab_type": "code",
        "outputId": "e60ad7c3-141b-45ad-99a5-b21854059735",
        "colab": {
          "base_uri": "https://localhost:8080/",
          "height": 1000
        }
      },
      "source": [
        "values = reframed.values\n",
        "\n",
        "### One Month ###\n",
        "#n_train_minutes = 60 * 24 * 7   #10,080 minutes\n",
        "#train = values[:n_train_minutes, :]\n",
        "#test = values[n_train_minutes:, :]\n",
        "\n",
        "### One Year ###\n",
        "n_train_minutes = 60 * 24 * 90   #129,600 minutes\n",
        "train = values[:n_train_minutes, :]\n",
        "test = values[n_train_minutes:, :]\n",
        "\n",
        "# split into input and outputs\n",
        "train_X, train_y = train[:, :-1], train[:, -1]\n",
        "test_X, test_y = test[:, :-1], test[:, -1]\n",
        "# reshape input to be 3D [samples, timesteps, features]\n",
        "train_X = train_X.reshape((train_X.shape[0], 1, train_X.shape[1]))\n",
        "test_X = test_X.reshape((test_X.shape[0], 1, test_X.shape[1]))\n",
        "print(train_X.shape, train_y.shape, test_X.shape, test_y.shape)\n",
        "\n",
        "#design architecture\n",
        "model = Sequential()\n",
        "model.add(LSTM(50, input_shape=(train_X.shape[1], train_X.shape[2])))\n",
        "model.add(Dense(1))\n",
        "model.compile(loss='mean_squared_error', optimizer='adam')\n",
        "\n",
        "# fit network\n",
        "history = model.fit(train_X, train_y, epochs=25, batch_size=100, validation_data=(test_X, test_y), verbose=2, shuffle=False)\n",
        "score = model.evaluate(test_X, test_y, batch_size=100)\n",
        "# plot history\n",
        "pyplot.plot(history.history['loss'], label='train')\n",
        "pyplot.plot(history.history['val_loss'], label='test')\n",
        "pyplot.legend()\n",
        "pyplot.show()"
      ],
      "execution_count": 0,
      "outputs": [
        {
          "output_type": "stream",
          "text": [
            "(129600, 1, 30) (129600,) (103153, 1, 30) (103153,)\n",
            "Train on 129600 samples, validate on 103153 samples\n",
            "Epoch 1/25\n",
            " - 4s - loss: 0.0036 - val_loss: 4.0654e-04\n",
            "Epoch 2/25\n",
            " - 4s - loss: 6.5391e-04 - val_loss: 3.5516e-04\n",
            "Epoch 3/25\n",
            " - 4s - loss: 6.4134e-04 - val_loss: 3.3677e-04\n",
            "Epoch 4/25\n",
            " - 4s - loss: 5.3309e-04 - val_loss: 4.1477e-04\n",
            "Epoch 5/25\n",
            " - 4s - loss: 4.9084e-04 - val_loss: 6.2899e-04\n",
            "Epoch 6/25\n",
            " - 4s - loss: 4.7611e-04 - val_loss: 8.3660e-04\n",
            "Epoch 7/25\n",
            " - 4s - loss: 4.3937e-04 - val_loss: 7.7125e-04\n",
            "Epoch 8/25\n",
            " - 4s - loss: 4.5537e-04 - val_loss: 0.0010\n",
            "Epoch 9/25\n",
            " - 4s - loss: 3.9347e-04 - val_loss: 3.3188e-04\n",
            "Epoch 10/25\n",
            " - 4s - loss: 4.7846e-04 - val_loss: 8.1303e-04\n",
            "Epoch 11/25\n",
            " - 4s - loss: 3.6019e-04 - val_loss: 3.2589e-04\n",
            "Epoch 12/25\n",
            " - 4s - loss: 4.6971e-04 - val_loss: 5.9213e-04\n",
            "Epoch 13/25\n",
            " - 4s - loss: 3.4120e-04 - val_loss: 3.1510e-04\n",
            "Epoch 14/25\n",
            " - 4s - loss: 4.4949e-04 - val_loss: 4.7549e-04\n",
            "Epoch 15/25\n",
            " - 4s - loss: 3.2773e-04 - val_loss: 3.9534e-04\n",
            "Epoch 16/25\n",
            " - 4s - loss: 4.4414e-04 - val_loss: 4.1402e-04\n",
            "Epoch 17/25\n",
            " - 4s - loss: 3.1895e-04 - val_loss: 4.2939e-04\n",
            "Epoch 18/25\n",
            " - 4s - loss: 4.3316e-04 - val_loss: 3.2885e-04\n",
            "Epoch 19/25\n",
            " - 4s - loss: 3.0834e-04 - val_loss: 4.4258e-04\n",
            "Epoch 20/25\n",
            " - 4s - loss: 4.2769e-04 - val_loss: 3.0482e-04\n",
            "Epoch 21/25\n",
            " - 4s - loss: 3.0372e-04 - val_loss: 4.9747e-04\n",
            "Epoch 22/25\n",
            " - 4s - loss: 4.1832e-04 - val_loss: 2.7749e-04\n",
            "Epoch 23/25\n",
            " - 4s - loss: 2.9882e-04 - val_loss: 5.3075e-04\n",
            "Epoch 24/25\n",
            " - 4s - loss: 4.1097e-04 - val_loss: 2.6419e-04\n",
            "Epoch 25/25\n",
            " - 4s - loss: 2.9509e-04 - val_loss: 5.6276e-04\n",
            "103153/103153 [==============================] - 1s 9us/step\n"
          ],
          "name": "stdout"
        },
        {
          "output_type": "display_data",
          "data": {
            "image/png": "[encoded data removed]",
            "text/plain": [
              "<Figure size 432x288 with 1 Axes>"
            ]
          },
          "metadata": {
            "tags": [],
            "needs_background": "light"
          }
        }
      ]
    },
    {
      "cell_type": "code",
      "metadata": {
        "id": "zCNd2NXJHwQ9",
        "colab_type": "code",
        "outputId": "97412bd2-ec3d-44be-86d5-ca797efe11a4",
        "colab": {
          "base_uri": "https://localhost:8080/",
          "height": 34
        }
      },
      "source": [
        "score"
      ],
      "execution_count": 0,
      "outputs": [
        {
          "output_type": "execute_result",
          "data": {
            "text/plain": [
              "0.0005627648722230518"
            ]
          },
          "metadata": {
            "tags": []
          },
          "execution_count": 24
        }
      ]
    },
    {
      "cell_type": "markdown",
      "metadata": {
        "id": "bHWKeH6P5QUT",
        "colab_type": "text"
      },
      "source": [
        "### Inverse Scaling ###"
      ]
    },
    {
      "cell_type": "code",
      "metadata": {
        "id": "MRnVQ-VnvE-L",
        "colab_type": "code",
        "outputId": "7502c33d-3a35-4dd2-f243-7a5ddae7b675",
        "colab": {
          "base_uri": "https://localhost:8080/",
          "height": 34
        }
      },
      "source": [
        "index = test_X.shape[2]-1\n",
        "yhat = model.predict(test_X)\n",
        "test_X = test_X.reshape((test_X.shape[0], test_X.shape[2]))\n",
        "\n",
        "\n",
        "# invert scaling for forecast\n",
        "inv_yhat = np.concatenate((yhat, test_X[:, index:]), axis=1)\n",
        "inv_yhat = scaler.inverse_transform(inv_yhat)\n",
        "inv_yhat = inv_yhat[:,0]\n",
        "\n",
        "# invert scaling for actual\n",
        "test_y = test_y.reshape((len(test_y), 1))\n",
        "inv_y = np.concatenate((test_y, test_X[:, index:]), axis=1)\n",
        "inv_y = scaler.inverse_transform(inv_y)\n",
        "inv_y = inv_y[:,0]\n",
        "\n",
        "# calculate RMSE\n",
        "rmse = math.sqrt(mean_squared_error(inv_y, inv_yhat))\n",
        "print('Test RMSE: %.3f' % rmse)\n"
      ],
      "execution_count": 0,
      "outputs": [
        {
          "output_type": "stream",
          "text": [
            "Test RMSE: 16.305\n"
          ],
          "name": "stdout"
        }
      ]
    },
    {
      "cell_type": "markdown",
      "metadata": {
        "id": "c6NS3rF6M4Of",
        "colab_type": "text"
      },
      "source": [
        "### **Different Architecture**\n",
        "\n"
      ]
    },
    {
      "cell_type": "code",
      "metadata": {
        "id": "iiXroGjEJ_zm",
        "colab_type": "code",
        "outputId": "3c0776b5-bf21-4c4a-f84e-9a9f27957b83",
        "colab": {
          "base_uri": "https://localhost:8080/",
          "height": 1000
        }
      },
      "source": [
        "values = reframed.values\n",
        "\n",
        "### One Month ###\n",
        "#n_train_minutes = 60 * 24 * 7   #10,080 minutes\n",
        "#train = values[:n_train_minutes, :]\n",
        "#test = values[n_train_minutes:, :]\n",
        "\n",
        "### One Year ###\n",
        "n_train_minutes = 60 * 24 * 90   #129,600 minutes\n",
        "train = values[:n_train_minutes, :]\n",
        "test = values[n_train_minutes:, :]\n",
        "\n",
        "# split into input and outputs\n",
        "train_X, train_y = train[:, :-1], train[:, -1]\n",
        "test_X, test_y = test[:, :-1], test[:, -1]\n",
        "# reshape input to be 3D [samples, timesteps, features]\n",
        "train_X = train_X.reshape((train_X.shape[0], 1, train_X.shape[1]))\n",
        "test_X = test_X.reshape((test_X.shape[0], 1, test_X.shape[1]))\n",
        "print(train_X.shape, train_y.shape, test_X.shape, test_y.shape)\n",
        "\n",
        "model = Sequential()\n",
        "model.add(LSTM(50, input_shape=(train_X.shape[1], train_X.shape[2])))\n",
        "#model.add(LSTM(128))\n",
        "model.add(keras.layers.Dropout(0.5))\n",
        "#model.add(Dense(1, activation='sigmoid'))\n",
        "model.add(Dense(1))\n",
        "model.compile(loss='mean_squared_error', optimizer='adam')\n",
        "\n",
        "# fit network\n",
        "history = model.fit(train_X, train_y, epochs=25, batch_size=100, validation_data=(test_X, test_y), verbose=2, shuffle=False)\n",
        "score = model.evaluate(test_X, test_y, batch_size=100)\n",
        "\n",
        "# plot history\n",
        "pyplot.plot(history.history['loss'], label='train')\n",
        "pyplot.plot(history.history['val_loss'], label='test')\n",
        "pyplot.legend()\n",
        "pyplot.show()"
      ],
      "execution_count": 0,
      "outputs": [
        {
          "output_type": "stream",
          "text": [
            "(129600, 1, 30) (129600,) (103153, 1, 30) (103153,)\n",
            "Train on 129600 samples, validate on 103153 samples\n",
            "Epoch 1/25\n",
            " - 4s - loss: 0.0050 - val_loss: 9.6259e-04\n",
            "Epoch 2/25\n",
            " - 4s - loss: 0.0023 - val_loss: 6.4878e-04\n",
            "Epoch 3/25\n",
            " - 4s - loss: 0.0017 - val_loss: 3.5929e-04\n",
            "Epoch 4/25\n",
            " - 4s - loss: 0.0014 - val_loss: 3.2014e-04\n",
            "Epoch 5/25\n",
            " - 4s - loss: 0.0012 - val_loss: 8.7054e-04\n",
            "Epoch 6/25\n",
            " - 4s - loss: 0.0011 - val_loss: 5.0060e-04\n",
            "Epoch 7/25\n",
            " - 4s - loss: 0.0011 - val_loss: 8.1061e-04\n",
            "Epoch 8/25\n",
            " - 4s - loss: 0.0011 - val_loss: 4.6961e-04\n",
            "Epoch 9/25\n",
            " - 4s - loss: 8.9663e-04 - val_loss: 9.3248e-04\n",
            "Epoch 10/25\n",
            " - 4s - loss: 0.0011 - val_loss: 4.0960e-04\n",
            "Epoch 11/25\n",
            " - 4s - loss: 9.4506e-04 - val_loss: 9.2838e-04\n",
            "Epoch 12/25\n",
            " - 4s - loss: 8.4530e-04 - val_loss: 3.2436e-04\n",
            "Epoch 13/25\n",
            " - 4s - loss: 0.0011 - val_loss: 6.6647e-04\n",
            "Epoch 14/25\n",
            " - 4s - loss: 9.4093e-04 - val_loss: 3.5838e-04\n",
            "Epoch 15/25\n",
            " - 4s - loss: 0.0010 - val_loss: 6.9297e-04\n",
            "Epoch 16/25\n",
            " - 4s - loss: 7.8138e-04 - val_loss: 7.3348e-04\n",
            "Epoch 17/25\n",
            " - 4s - loss: 0.0010 - val_loss: 6.7548e-04\n",
            "Epoch 18/25\n",
            " - 4s - loss: 8.3652e-04 - val_loss: 2.9980e-04\n",
            "Epoch 19/25\n",
            " - 4s - loss: 9.2718e-04 - val_loss: 6.1694e-04\n",
            "Epoch 20/25\n",
            " - 4s - loss: 8.8690e-04 - val_loss: 6.1150e-04\n",
            "Epoch 21/25\n",
            " - 4s - loss: 0.0010 - val_loss: 4.1255e-04\n",
            "Epoch 22/25\n",
            " - 4s - loss: 7.8853e-04 - val_loss: 3.9887e-04\n",
            "Epoch 23/25\n",
            " - 4s - loss: 9.9376e-04 - val_loss: 5.8501e-04\n",
            "Epoch 24/25\n",
            " - 4s - loss: 8.2607e-04 - val_loss: 2.9605e-04\n",
            "Epoch 25/25\n",
            " - 4s - loss: 9.5994e-04 - val_loss: 2.8564e-04\n",
            "103153/103153 [==============================] - 1s 9us/step\n"
          ],
          "name": "stdout"
        },
        {
          "output_type": "display_data",
          "data": {
            "image/png": "[encoded data removed]",
            "text/plain": [
              "<Figure size 432x288 with 1 Axes>"
            ]
          },
          "metadata": {
            "tags": [],
            "needs_background": "light"
          }
        }
      ]
    },
    {
      "cell_type": "code",
      "metadata": {
        "id": "4g6zIPnIMsHq",
        "colab_type": "code",
        "outputId": "3693081e-4b40-40f6-be13-82848504d28d",
        "colab": {
          "base_uri": "https://localhost:8080/",
          "height": 34
        }
      },
      "source": [
        "score"
      ],
      "execution_count": 0,
      "outputs": [
        {
          "output_type": "execute_result",
          "data": {
            "text/plain": [
              "0.00028564425655102824"
            ]
          },
          "metadata": {
            "tags": []
          },
          "execution_count": 27
        }
      ]
    },
    {
      "cell_type": "code",
      "metadata": {
        "id": "aQe4KH5YNo8Z",
        "colab_type": "code",
        "outputId": "2ab5da58-ccb8-437d-82d3-1f1b4c3a31cf",
        "colab": {
          "base_uri": "https://localhost:8080/",
          "height": 34
        }
      },
      "source": [
        "score"
      ],
      "execution_count": 0,
      "outputs": [
        {
          "output_type": "execute_result",
          "data": {
            "text/plain": [
              "0.00028564425655102824"
            ]
          },
          "metadata": {
            "tags": []
          },
          "execution_count": 28
        }
      ]
    },
    {
      "cell_type": "code",
      "metadata": {
        "id": "cucLNqG0NN9c",
        "colab_type": "code",
        "outputId": "793c603e-04d6-4276-8913-43a478f4add5",
        "colab": {
          "base_uri": "https://localhost:8080/",
          "height": 34
        }
      },
      "source": [
        "index = test_X.shape[2]-1\n",
        "yhat = model.predict(test_X)\n",
        "test_X = test_X.reshape((test_X.shape[0], test_X.shape[2]))\n",
        "\n",
        "\n",
        "# invert scaling for forecast\n",
        "inv_yhat = np.concatenate((yhat, test_X[:, index:]), axis=1)\n",
        "inv_yhat = scaler.inverse_transform(inv_yhat)\n",
        "inv_yhat = inv_yhat[:,0]\n",
        "\n",
        "# invert scaling for actual\n",
        "test_y = test_y.reshape((len(test_y), 1))\n",
        "inv_y = np.concatenate((test_y, test_X[:, index:]), axis=1)\n",
        "inv_y = scaler.inverse_transform(inv_y)\n",
        "inv_y = inv_y[:,0]\n",
        "\n",
        "# calculate RMSE\n",
        "rmse = math.sqrt(mean_squared_error(inv_y, inv_yhat))\n",
        "print('Test RMSE: %.3f' % rmse)"
      ],
      "execution_count": 0,
      "outputs": [
        {
          "output_type": "stream",
          "text": [
            "Test RMSE: 11.616\n"
          ],
          "name": "stdout"
        }
      ]
    }
  ]
}