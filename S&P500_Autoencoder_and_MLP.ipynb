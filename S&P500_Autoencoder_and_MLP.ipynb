{
  "nbformat": 4,
  "nbformat_minor": 0,
  "metadata": {
    "colab": {
      "name": "S&P500_Autoencoder_and_MLP.ipynb",
      "provenance": []
    },
    "kernelspec": {
      "name": "python3",
      "display_name": "Python 3"
    }
  },
  "cells": [
    {
      "cell_type": "code",
      "metadata": {
        "id": "mvJcXXD4qXVB",
        "colab_type": "code",
        "outputId": "0a0ec5de-23fa-47ba-e7f7-f4fa2f642ff1",
        "colab": {
          "base_uri": "https://localhost:8080/",
          "height": 71
        }
      },
      "source": [
        "import tensorflow as tf\n",
        "import numpy as np\n",
        "import pandas as pd\n",
        "\n",
        "from pandas_datareader import data\n",
        "from sklearn.model_selection import train_test_split\n",
        "from sklearn.decomposition import PCA\n",
        "import matplotlib.pyplot as plt"
      ],
      "execution_count": 0,
      "outputs": [
        {
          "output_type": "stream",
          "text": [
            "/usr/local/lib/python3.6/dist-packages/pandas_datareader/compat/__init__.py:7: FutureWarning: pandas.util.testing is deprecated. Use the functions in the public API at pandas.testing instead.\n",
            "  from pandas.util.testing import assert_frame_equal\n"
          ],
          "name": "stderr"
        }
      ]
    },
    {
      "cell_type": "code",
      "metadata": {
        "id": "U11qQ01MB5Vm",
        "colab_type": "code",
        "colab": {}
      },
      "source": [
        "# Define the stocks to download. These are top 50 stocks on the S&P 500\n",
        "tickers =[\n",
        "          'MSFT',\n",
        "          'AAPL',\n",
        "          'AMZN',\n",
        "          'FB',\n",
        "          'COF',\n",
        "          'GOOGL',\n",
        "          'JNJ',\n",
        "          'JPM',\n",
        "          'V',\n",
        "          'PG',\n",
        "          'MA',\n",
        "          'INTC',\n",
        "          'UNH',\n",
        "          'BAC',\n",
        "          'T',\n",
        "          'HD',\n",
        "          'XOM',\n",
        "          'DIS',\n",
        "          'VZ',\n",
        "          'KO',\n",
        "          'MRK',\n",
        "          'CMCSA',\n",
        "          'CVX',\n",
        "          'PEP',\n",
        "          'AFL',\n",
        "          'ATVI',\n",
        "          'AMD',\n",
        "          'BLK',\n",
        "          'CCL',\n",
        "          'CMG',\n",
        "          'COP',\n",
        "          'DAL',\n",
        "          'EBAY',\n",
        "          'GS',\n",
        "          'HPQ',\n",
        "          'IBM',\n",
        "          'LLY',\n",
        "          'MCD',\n",
        "          'MU',\n",
        "          'MS',\n",
        "          'NFLX',\n",
        "          'NKE',\n",
        "          'NVDA',\n",
        "          'SBUX',\n",
        "          'TWTR',\n",
        "          'VRTX',\n",
        "          'ACN',\n",
        "          'WFC',\n",
        "          'MMM',\n",
        "          'SLB']"
      ],
      "execution_count": 0,
      "outputs": []
    },
    {
      "cell_type": "code",
      "metadata": {
        "id": "5KOGmKqu3tIx",
        "colab_type": "code",
        "colab": {}
      },
      "source": [
        "start_date = '2014-01-01'\n",
        "end_date = '2017-12-29'\n",
        "\n",
        "# User pandas_reader.data.DataReader to load the desired data.\n",
        "panel_data = data.DataReader(tickers, 'yahoo', start_date, end_date)\n",
        "df = panel_data['Close']\n",
        "\n",
        "#from google.colab import files\n",
        "#df.to_excel('df.xlsx')\n",
        "#files.download('df.xlsx')"
      ],
      "execution_count": 0,
      "outputs": []
    },
    {
      "cell_type": "code",
      "metadata": {
        "id": "y9MITD9d3t1z",
        "colab_type": "code",
        "outputId": "fa69357a-8deb-44c6-a22c-7ddc754a930f",
        "colab": {
          "base_uri": "https://localhost:8080/",
          "height": 340
        }
      },
      "source": [
        "df.head()"
      ],
      "execution_count": 0,
      "outputs": [
        {
          "output_type": "execute_result",
          "data": {
            "text/html": [
              "<div>\n",
              "<style scoped>\n",
              "    .dataframe tbody tr th:only-of-type {\n",
              "        vertical-align: middle;\n",
              "    }\n",
              "\n",
              "    .dataframe tbody tr th {\n",
              "        vertical-align: top;\n",
              "    }\n",
              "\n",
              "    .dataframe thead th {\n",
              "        text-align: right;\n",
              "    }\n",
              "</style>\n",
              "<table border=\"1\" class=\"dataframe\">\n",
              "  <thead>\n",
              "    <tr style=\"text-align: right;\">\n",
              "      <th>Symbols</th>\n",
              "      <th>MSFT</th>\n",
              "      <th>AAPL</th>\n",
              "      <th>AMZN</th>\n",
              "      <th>FB</th>\n",
              "      <th>COF</th>\n",
              "      <th>GOOGL</th>\n",
              "      <th>JNJ</th>\n",
              "      <th>JPM</th>\n",
              "      <th>V</th>\n",
              "      <th>PG</th>\n",
              "      <th>MA</th>\n",
              "      <th>INTC</th>\n",
              "      <th>UNH</th>\n",
              "      <th>BAC</th>\n",
              "      <th>T</th>\n",
              "      <th>HD</th>\n",
              "      <th>XOM</th>\n",
              "      <th>DIS</th>\n",
              "      <th>VZ</th>\n",
              "      <th>KO</th>\n",
              "      <th>MRK</th>\n",
              "      <th>CMCSA</th>\n",
              "      <th>CVX</th>\n",
              "      <th>PEP</th>\n",
              "      <th>AFL</th>\n",
              "      <th>ATVI</th>\n",
              "      <th>AMD</th>\n",
              "      <th>BLK</th>\n",
              "      <th>CCL</th>\n",
              "      <th>CMG</th>\n",
              "      <th>COP</th>\n",
              "      <th>DAL</th>\n",
              "      <th>EBAY</th>\n",
              "      <th>GS</th>\n",
              "      <th>HPQ</th>\n",
              "      <th>IBM</th>\n",
              "      <th>LLY</th>\n",
              "      <th>MCD</th>\n",
              "      <th>MU</th>\n",
              "      <th>MS</th>\n",
              "      <th>NFLX</th>\n",
              "      <th>NKE</th>\n",
              "      <th>NVDA</th>\n",
              "      <th>SBUX</th>\n",
              "      <th>TWTR</th>\n",
              "      <th>VRTX</th>\n",
              "      <th>ACN</th>\n",
              "      <th>WFC</th>\n",
              "      <th>MMM</th>\n",
              "      <th>SLB</th>\n",
              "    </tr>\n",
              "    <tr>\n",
              "      <th>Date</th>\n",
              "      <th></th>\n",
              "      <th></th>\n",
              "      <th></th>\n",
              "      <th></th>\n",
              "      <th></th>\n",
              "      <th></th>\n",
              "      <th></th>\n",
              "      <th></th>\n",
              "      <th></th>\n",
              "      <th></th>\n",
              "      <th></th>\n",
              "      <th></th>\n",
              "      <th></th>\n",
              "      <th></th>\n",
              "      <th></th>\n",
              "      <th></th>\n",
              "      <th></th>\n",
              "      <th></th>\n",
              "      <th></th>\n",
              "      <th></th>\n",
              "      <th></th>\n",
              "      <th></th>\n",
              "      <th></th>\n",
              "      <th></th>\n",
              "      <th></th>\n",
              "      <th></th>\n",
              "      <th></th>\n",
              "      <th></th>\n",
              "      <th></th>\n",
              "      <th></th>\n",
              "      <th></th>\n",
              "      <th></th>\n",
              "      <th></th>\n",
              "      <th></th>\n",
              "      <th></th>\n",
              "      <th></th>\n",
              "      <th></th>\n",
              "      <th></th>\n",
              "      <th></th>\n",
              "      <th></th>\n",
              "      <th></th>\n",
              "      <th></th>\n",
              "      <th></th>\n",
              "      <th></th>\n",
              "      <th></th>\n",
              "      <th></th>\n",
              "      <th></th>\n",
              "      <th></th>\n",
              "      <th></th>\n",
              "      <th></th>\n",
              "    </tr>\n",
              "  </thead>\n",
              "  <tbody>\n",
              "    <tr>\n",
              "      <th>2014-01-02</th>\n",
              "      <td>37.160000</td>\n",
              "      <td>79.018570</td>\n",
              "      <td>397.970001</td>\n",
              "      <td>54.709999</td>\n",
              "      <td>77.250000</td>\n",
              "      <td>557.117126</td>\n",
              "      <td>91.029999</td>\n",
              "      <td>58.209999</td>\n",
              "      <td>55.252499</td>\n",
              "      <td>80.540001</td>\n",
              "      <td>83.414001</td>\n",
              "      <td>25.790001</td>\n",
              "      <td>74.570000</td>\n",
              "      <td>16.10</td>\n",
              "      <td>34.950001</td>\n",
              "      <td>82.019997</td>\n",
              "      <td>99.750000</td>\n",
              "      <td>76.269997</td>\n",
              "      <td>49.000000</td>\n",
              "      <td>40.660000</td>\n",
              "      <td>49.490002</td>\n",
              "      <td>25.725000</td>\n",
              "      <td>124.139999</td>\n",
              "      <td>82.099998</td>\n",
              "      <td>32.980000</td>\n",
              "      <td>18.070000</td>\n",
              "      <td>3.95</td>\n",
              "      <td>312.799988</td>\n",
              "      <td>39.810001</td>\n",
              "      <td>523.429993</td>\n",
              "      <td>69.779999</td>\n",
              "      <td>27.700001</td>\n",
              "      <td>22.702021</td>\n",
              "      <td>176.889999</td>\n",
              "      <td>12.561308</td>\n",
              "      <td>185.529999</td>\n",
              "      <td>50.730000</td>\n",
              "      <td>96.410004</td>\n",
              "      <td>21.660000</td>\n",
              "      <td>31.030001</td>\n",
              "      <td>51.831429</td>\n",
              "      <td>39.119999</td>\n",
              "      <td>15.860000</td>\n",
              "      <td>38.584999</td>\n",
              "      <td>67.500000</td>\n",
              "      <td>73.830002</td>\n",
              "      <td>81.129997</td>\n",
              "      <td>45.020000</td>\n",
              "      <td>138.130005</td>\n",
              "      <td>88.820000</td>\n",
              "    </tr>\n",
              "    <tr>\n",
              "      <th>2014-01-03</th>\n",
              "      <td>36.910000</td>\n",
              "      <td>77.282860</td>\n",
              "      <td>396.440002</td>\n",
              "      <td>54.560001</td>\n",
              "      <td>77.339996</td>\n",
              "      <td>553.053040</td>\n",
              "      <td>91.849998</td>\n",
              "      <td>58.660000</td>\n",
              "      <td>55.290001</td>\n",
              "      <td>80.449997</td>\n",
              "      <td>83.081001</td>\n",
              "      <td>25.780001</td>\n",
              "      <td>75.099998</td>\n",
              "      <td>16.41</td>\n",
              "      <td>34.799999</td>\n",
              "      <td>81.889999</td>\n",
              "      <td>99.510002</td>\n",
              "      <td>76.110001</td>\n",
              "      <td>48.419998</td>\n",
              "      <td>40.459999</td>\n",
              "      <td>49.730000</td>\n",
              "      <td>25.535000</td>\n",
              "      <td>124.349998</td>\n",
              "      <td>82.239998</td>\n",
              "      <td>33.075001</td>\n",
              "      <td>18.290001</td>\n",
              "      <td>4.00</td>\n",
              "      <td>314.170013</td>\n",
              "      <td>39.849998</td>\n",
              "      <td>531.309998</td>\n",
              "      <td>69.959999</td>\n",
              "      <td>29.230000</td>\n",
              "      <td>22.415825</td>\n",
              "      <td>178.149994</td>\n",
              "      <td>12.870118</td>\n",
              "      <td>186.639999</td>\n",
              "      <td>51.099998</td>\n",
              "      <td>96.540001</td>\n",
              "      <td>20.969999</td>\n",
              "      <td>31.510000</td>\n",
              "      <td>51.871429</td>\n",
              "      <td>39.014999</td>\n",
              "      <td>15.670000</td>\n",
              "      <td>38.474998</td>\n",
              "      <td>69.000000</td>\n",
              "      <td>73.449997</td>\n",
              "      <td>81.400002</td>\n",
              "      <td>45.340000</td>\n",
              "      <td>138.449997</td>\n",
              "      <td>88.349998</td>\n",
              "    </tr>\n",
              "    <tr>\n",
              "      <th>2014-01-06</th>\n",
              "      <td>36.130001</td>\n",
              "      <td>77.704285</td>\n",
              "      <td>393.630005</td>\n",
              "      <td>57.200001</td>\n",
              "      <td>76.589996</td>\n",
              "      <td>559.219238</td>\n",
              "      <td>92.330002</td>\n",
              "      <td>59.000000</td>\n",
              "      <td>54.957500</td>\n",
              "      <td>80.639999</td>\n",
              "      <td>82.668999</td>\n",
              "      <td>25.459999</td>\n",
              "      <td>74.239998</td>\n",
              "      <td>16.66</td>\n",
              "      <td>34.959999</td>\n",
              "      <td>81.099998</td>\n",
              "      <td>99.660004</td>\n",
              "      <td>75.820000</td>\n",
              "      <td>48.689999</td>\n",
              "      <td>40.270000</td>\n",
              "      <td>49.740002</td>\n",
              "      <td>25.510000</td>\n",
              "      <td>124.019997</td>\n",
              "      <td>82.279999</td>\n",
              "      <td>32.439999</td>\n",
              "      <td>18.080000</td>\n",
              "      <td>4.13</td>\n",
              "      <td>314.070007</td>\n",
              "      <td>39.230000</td>\n",
              "      <td>527.320007</td>\n",
              "      <td>70.260002</td>\n",
              "      <td>29.290001</td>\n",
              "      <td>21.792929</td>\n",
              "      <td>179.369995</td>\n",
              "      <td>12.847411</td>\n",
              "      <td>186.000000</td>\n",
              "      <td>51.529999</td>\n",
              "      <td>95.849998</td>\n",
              "      <td>20.670000</td>\n",
              "      <td>31.620001</td>\n",
              "      <td>51.367142</td>\n",
              "      <td>38.715000</td>\n",
              "      <td>15.880000</td>\n",
              "      <td>38.084999</td>\n",
              "      <td>66.290001</td>\n",
              "      <td>75.500000</td>\n",
              "      <td>80.540001</td>\n",
              "      <td>45.419998</td>\n",
              "      <td>137.630005</td>\n",
              "      <td>88.019997</td>\n",
              "    </tr>\n",
              "    <tr>\n",
              "      <th>2014-01-07</th>\n",
              "      <td>36.410000</td>\n",
              "      <td>77.148575</td>\n",
              "      <td>398.029999</td>\n",
              "      <td>57.919998</td>\n",
              "      <td>77.279999</td>\n",
              "      <td>570.000000</td>\n",
              "      <td>94.290001</td>\n",
              "      <td>58.320000</td>\n",
              "      <td>55.377499</td>\n",
              "      <td>81.419998</td>\n",
              "      <td>83.709000</td>\n",
              "      <td>25.590000</td>\n",
              "      <td>76.510002</td>\n",
              "      <td>16.50</td>\n",
              "      <td>34.950001</td>\n",
              "      <td>81.500000</td>\n",
              "      <td>101.070000</td>\n",
              "      <td>76.339996</td>\n",
              "      <td>49.299999</td>\n",
              "      <td>40.389999</td>\n",
              "      <td>50.110001</td>\n",
              "      <td>26.415001</td>\n",
              "      <td>125.070000</td>\n",
              "      <td>83.480003</td>\n",
              "      <td>32.544998</td>\n",
              "      <td>18.320000</td>\n",
              "      <td>4.18</td>\n",
              "      <td>316.959991</td>\n",
              "      <td>39.490002</td>\n",
              "      <td>533.059998</td>\n",
              "      <td>70.370003</td>\n",
              "      <td>28.780001</td>\n",
              "      <td>22.251684</td>\n",
              "      <td>178.289993</td>\n",
              "      <td>12.797457</td>\n",
              "      <td>189.710007</td>\n",
              "      <td>51.189999</td>\n",
              "      <td>96.379997</td>\n",
              "      <td>21.730000</td>\n",
              "      <td>31.520000</td>\n",
              "      <td>48.500000</td>\n",
              "      <td>38.744999</td>\n",
              "      <td>16.139999</td>\n",
              "      <td>38.605000</td>\n",
              "      <td>61.459999</td>\n",
              "      <td>74.489998</td>\n",
              "      <td>81.519997</td>\n",
              "      <td>45.400002</td>\n",
              "      <td>137.649994</td>\n",
              "      <td>87.510002</td>\n",
              "    </tr>\n",
              "    <tr>\n",
              "      <th>2014-01-08</th>\n",
              "      <td>35.759998</td>\n",
              "      <td>77.637146</td>\n",
              "      <td>401.920013</td>\n",
              "      <td>58.230000</td>\n",
              "      <td>77.849998</td>\n",
              "      <td>571.186157</td>\n",
              "      <td>94.160004</td>\n",
              "      <td>58.869999</td>\n",
              "      <td>55.555000</td>\n",
              "      <td>80.239998</td>\n",
              "      <td>83.683998</td>\n",
              "      <td>25.430000</td>\n",
              "      <td>75.620003</td>\n",
              "      <td>16.58</td>\n",
              "      <td>34.240002</td>\n",
              "      <td>81.930000</td>\n",
              "      <td>100.739998</td>\n",
              "      <td>75.220001</td>\n",
              "      <td>48.500000</td>\n",
              "      <td>39.939999</td>\n",
              "      <td>49.790001</td>\n",
              "      <td>26.375000</td>\n",
              "      <td>123.290001</td>\n",
              "      <td>83.239998</td>\n",
              "      <td>32.314999</td>\n",
              "      <td>18.340000</td>\n",
              "      <td>4.18</td>\n",
              "      <td>316.859985</td>\n",
              "      <td>39.400002</td>\n",
              "      <td>535.849976</td>\n",
              "      <td>69.690002</td>\n",
              "      <td>29.799999</td>\n",
              "      <td>22.041246</td>\n",
              "      <td>178.440002</td>\n",
              "      <td>12.465940</td>\n",
              "      <td>187.970001</td>\n",
              "      <td>51.110001</td>\n",
              "      <td>95.410004</td>\n",
              "      <td>23.870001</td>\n",
              "      <td>31.559999</td>\n",
              "      <td>48.712856</td>\n",
              "      <td>38.544998</td>\n",
              "      <td>16.360001</td>\n",
              "      <td>39.014999</td>\n",
              "      <td>59.290001</td>\n",
              "      <td>75.230003</td>\n",
              "      <td>82.150002</td>\n",
              "      <td>45.919998</td>\n",
              "      <td>136.630005</td>\n",
              "      <td>86.980003</td>\n",
              "    </tr>\n",
              "  </tbody>\n",
              "</table>\n",
              "</div>"
            ],
            "text/plain": [
              "Symbols          MSFT       AAPL        AMZN  ...        WFC         MMM        SLB\n",
              "Date                                          ...                                  \n",
              "2014-01-02  37.160000  79.018570  397.970001  ...  45.020000  138.130005  88.820000\n",
              "2014-01-03  36.910000  77.282860  396.440002  ...  45.340000  138.449997  88.349998\n",
              "2014-01-06  36.130001  77.704285  393.630005  ...  45.419998  137.630005  88.019997\n",
              "2014-01-07  36.410000  77.148575  398.029999  ...  45.400002  137.649994  87.510002\n",
              "2014-01-08  35.759998  77.637146  401.920013  ...  45.919998  136.630005  86.980003\n",
              "\n",
              "[5 rows x 50 columns]"
            ]
          },
          "metadata": {
            "tags": []
          },
          "execution_count": 4
        }
      ]
    },
    {
      "cell_type": "code",
      "metadata": {
        "id": "5nu8YVgI483T",
        "colab_type": "code",
        "colab": {}
      },
      "source": [
        "#df.mean()"
      ],
      "execution_count": 0,
      "outputs": []
    },
    {
      "cell_type": "code",
      "metadata": {
        "id": "nSzjkF49rrVf",
        "colab_type": "code",
        "colab": {}
      },
      "source": [
        "def series_to_supervised(data, n_in=1, n_out=1, dropnan=True):\n",
        "\t\n",
        "\tn_vars = 1 if type(data) is list else data.shape[1]\n",
        "\tdf = pd.DataFrame(data)\n",
        "\tcols, names = list(), list()\n",
        "\t# input sequence (t-n, ... t-1)\n",
        "\tfor i in range(n_in, 0, -1):\n",
        "\t\tcols.append(df.shift(i))\n",
        "\t\tnames += [('stock%d(t-%d)' % (j+1, i)) for j in range(n_vars)]\n",
        "\t# forecast sequence (t, t+1, ... t+n)\n",
        "\tfor i in range(0, n_out):\n",
        "\t\tcols.append(df.shift(-i))\n",
        "\t\tif i == 0:\n",
        "\t\t\tnames += [('stock%d(t)' % (j+1)) for j in range(n_vars)]\n",
        "\t\telse:\n",
        "\t\t\tnames += [('stock%d(t+%d)' % (j+1, i)) for j in range(n_vars)]\n",
        "\t# put it all together\n",
        "\tagg = pd.concat(cols, axis=1)\n",
        "\tagg.columns = names\n",
        "\t# drop rows with NaN values\n",
        "\tif dropnan:\n",
        "\t\tagg.dropna(inplace=True)\n",
        "\treturn agg"
      ],
      "execution_count": 0,
      "outputs": []
    },
    {
      "cell_type": "code",
      "metadata": {
        "id": "OlHD_62qw6Jd",
        "colab_type": "code",
        "colab": {}
      },
      "source": [
        "#Normalize each series Sj(t) by Yj(t) = Sj(t) / avSj(t)\n",
        "df = df/df.mean()"
      ],
      "execution_count": 0,
      "outputs": []
    },
    {
      "cell_type": "code",
      "metadata": {
        "id": "LIG-tQni6MJ3",
        "colab_type": "code",
        "colab": {}
      },
      "source": [
        "reframed = series_to_supervised(df, 4, 2)"
      ],
      "execution_count": 0,
      "outputs": []
    },
    {
      "cell_type": "code",
      "metadata": {
        "id": "Zj9F00d0xOrX",
        "colab_type": "code",
        "outputId": "7347c58d-4d28-412a-ef40-56b511b1d43b",
        "colab": {
          "base_uri": "https://localhost:8080/",
          "height": 386
        }
      },
      "source": [
        "#keep stock 1 at t+1 to use for predictions\n",
        "reframed.drop(reframed.iloc[:, 251:], inplace = True, axis = 1)\n",
        "reframed.head()\n"
      ],
      "execution_count": 0,
      "outputs": [
        {
          "output_type": "execute_result",
          "data": {
            "text/html": [
              "<div>\n",
              "<style scoped>\n",
              "    .dataframe tbody tr th:only-of-type {\n",
              "        vertical-align: middle;\n",
              "    }\n",
              "\n",
              "    .dataframe tbody tr th {\n",
              "        vertical-align: top;\n",
              "    }\n",
              "\n",
              "    .dataframe thead th {\n",
              "        text-align: right;\n",
              "    }\n",
              "</style>\n",
              "<table border=\"1\" class=\"dataframe\">\n",
              "  <thead>\n",
              "    <tr style=\"text-align: right;\">\n",
              "      <th></th>\n",
              "      <th>stock1(t-4)</th>\n",
              "      <th>stock2(t-4)</th>\n",
              "      <th>stock3(t-4)</th>\n",
              "      <th>stock4(t-4)</th>\n",
              "      <th>stock5(t-4)</th>\n",
              "      <th>stock6(t-4)</th>\n",
              "      <th>stock7(t-4)</th>\n",
              "      <th>stock8(t-4)</th>\n",
              "      <th>stock9(t-4)</th>\n",
              "      <th>stock10(t-4)</th>\n",
              "      <th>stock11(t-4)</th>\n",
              "      <th>stock12(t-4)</th>\n",
              "      <th>stock13(t-4)</th>\n",
              "      <th>stock14(t-4)</th>\n",
              "      <th>stock15(t-4)</th>\n",
              "      <th>stock16(t-4)</th>\n",
              "      <th>stock17(t-4)</th>\n",
              "      <th>stock18(t-4)</th>\n",
              "      <th>stock19(t-4)</th>\n",
              "      <th>stock20(t-4)</th>\n",
              "      <th>stock21(t-4)</th>\n",
              "      <th>stock22(t-4)</th>\n",
              "      <th>stock23(t-4)</th>\n",
              "      <th>stock24(t-4)</th>\n",
              "      <th>stock25(t-4)</th>\n",
              "      <th>stock26(t-4)</th>\n",
              "      <th>stock27(t-4)</th>\n",
              "      <th>stock28(t-4)</th>\n",
              "      <th>stock29(t-4)</th>\n",
              "      <th>stock30(t-4)</th>\n",
              "      <th>stock31(t-4)</th>\n",
              "      <th>stock32(t-4)</th>\n",
              "      <th>stock33(t-4)</th>\n",
              "      <th>stock34(t-4)</th>\n",
              "      <th>stock35(t-4)</th>\n",
              "      <th>stock36(t-4)</th>\n",
              "      <th>stock37(t-4)</th>\n",
              "      <th>stock38(t-4)</th>\n",
              "      <th>stock39(t-4)</th>\n",
              "      <th>stock40(t-4)</th>\n",
              "      <th>...</th>\n",
              "      <th>stock12(t)</th>\n",
              "      <th>stock13(t)</th>\n",
              "      <th>stock14(t)</th>\n",
              "      <th>stock15(t)</th>\n",
              "      <th>stock16(t)</th>\n",
              "      <th>stock17(t)</th>\n",
              "      <th>stock18(t)</th>\n",
              "      <th>stock19(t)</th>\n",
              "      <th>stock20(t)</th>\n",
              "      <th>stock21(t)</th>\n",
              "      <th>stock22(t)</th>\n",
              "      <th>stock23(t)</th>\n",
              "      <th>stock24(t)</th>\n",
              "      <th>stock25(t)</th>\n",
              "      <th>stock26(t)</th>\n",
              "      <th>stock27(t)</th>\n",
              "      <th>stock28(t)</th>\n",
              "      <th>stock29(t)</th>\n",
              "      <th>stock30(t)</th>\n",
              "      <th>stock31(t)</th>\n",
              "      <th>stock32(t)</th>\n",
              "      <th>stock33(t)</th>\n",
              "      <th>stock34(t)</th>\n",
              "      <th>stock35(t)</th>\n",
              "      <th>stock36(t)</th>\n",
              "      <th>stock37(t)</th>\n",
              "      <th>stock38(t)</th>\n",
              "      <th>stock39(t)</th>\n",
              "      <th>stock40(t)</th>\n",
              "      <th>stock41(t)</th>\n",
              "      <th>stock42(t)</th>\n",
              "      <th>stock43(t)</th>\n",
              "      <th>stock44(t)</th>\n",
              "      <th>stock45(t)</th>\n",
              "      <th>stock46(t)</th>\n",
              "      <th>stock47(t)</th>\n",
              "      <th>stock48(t)</th>\n",
              "      <th>stock49(t)</th>\n",
              "      <th>stock50(t)</th>\n",
              "      <th>stock1(t+1)</th>\n",
              "    </tr>\n",
              "    <tr>\n",
              "      <th>Date</th>\n",
              "      <th></th>\n",
              "      <th></th>\n",
              "      <th></th>\n",
              "      <th></th>\n",
              "      <th></th>\n",
              "      <th></th>\n",
              "      <th></th>\n",
              "      <th></th>\n",
              "      <th></th>\n",
              "      <th></th>\n",
              "      <th></th>\n",
              "      <th></th>\n",
              "      <th></th>\n",
              "      <th></th>\n",
              "      <th></th>\n",
              "      <th></th>\n",
              "      <th></th>\n",
              "      <th></th>\n",
              "      <th></th>\n",
              "      <th></th>\n",
              "      <th></th>\n",
              "      <th></th>\n",
              "      <th></th>\n",
              "      <th></th>\n",
              "      <th></th>\n",
              "      <th></th>\n",
              "      <th></th>\n",
              "      <th></th>\n",
              "      <th></th>\n",
              "      <th></th>\n",
              "      <th></th>\n",
              "      <th></th>\n",
              "      <th></th>\n",
              "      <th></th>\n",
              "      <th></th>\n",
              "      <th></th>\n",
              "      <th></th>\n",
              "      <th></th>\n",
              "      <th></th>\n",
              "      <th></th>\n",
              "      <th></th>\n",
              "      <th></th>\n",
              "      <th></th>\n",
              "      <th></th>\n",
              "      <th></th>\n",
              "      <th></th>\n",
              "      <th></th>\n",
              "      <th></th>\n",
              "      <th></th>\n",
              "      <th></th>\n",
              "      <th></th>\n",
              "      <th></th>\n",
              "      <th></th>\n",
              "      <th></th>\n",
              "      <th></th>\n",
              "      <th></th>\n",
              "      <th></th>\n",
              "      <th></th>\n",
              "      <th></th>\n",
              "      <th></th>\n",
              "      <th></th>\n",
              "      <th></th>\n",
              "      <th></th>\n",
              "      <th></th>\n",
              "      <th></th>\n",
              "      <th></th>\n",
              "      <th></th>\n",
              "      <th></th>\n",
              "      <th></th>\n",
              "      <th></th>\n",
              "      <th></th>\n",
              "      <th></th>\n",
              "      <th></th>\n",
              "      <th></th>\n",
              "      <th></th>\n",
              "      <th></th>\n",
              "      <th></th>\n",
              "      <th></th>\n",
              "      <th></th>\n",
              "      <th></th>\n",
              "      <th></th>\n",
              "    </tr>\n",
              "  </thead>\n",
              "  <tbody>\n",
              "    <tr>\n",
              "      <th>2014-01-08</th>\n",
              "      <td>0.687066</td>\n",
              "      <td>0.676347</td>\n",
              "      <td>0.642666</td>\n",
              "      <td>0.507804</td>\n",
              "      <td>0.978663</td>\n",
              "      <td>0.771034</td>\n",
              "      <td>0.820334</td>\n",
              "      <td>0.832918</td>\n",
              "      <td>0.732449</td>\n",
              "      <td>0.961929</td>\n",
              "      <td>0.848196</td>\n",
              "      <td>0.772079</td>\n",
              "      <td>0.572188</td>\n",
              "      <td>0.881585</td>\n",
              "      <td>0.955869</td>\n",
              "      <td>0.673897</td>\n",
              "      <td>1.145892</td>\n",
              "      <td>0.770200</td>\n",
              "      <td>1.002955</td>\n",
              "      <td>0.956884</td>\n",
              "      <td>0.847652</td>\n",
              "      <td>0.815898</td>\n",
              "      <td>1.159672</td>\n",
              "      <td>0.816590</td>\n",
              "      <td>0.980884</td>\n",
              "      <td>0.507867</td>\n",
              "      <td>0.668511</td>\n",
              "      <td>0.868979</td>\n",
              "      <td>0.799053</td>\n",
              "      <td>1.012725</td>\n",
              "      <td>1.253524</td>\n",
              "      <td>0.626701</td>\n",
              "      <td>0.822291</td>\n",
              "      <td>0.920221</td>\n",
              "      <td>0.816908</td>\n",
              "      <td>1.149070</td>\n",
              "      <td>0.678656</td>\n",
              "      <td>0.828554</td>\n",
              "      <td>0.886038</td>\n",
              "      <td>0.859012</td>\n",
              "      <td>...</td>\n",
              "      <td>0.761302</td>\n",
              "      <td>0.580245</td>\n",
              "      <td>0.907868</td>\n",
              "      <td>0.936450</td>\n",
              "      <td>0.673157</td>\n",
              "      <td>1.157264</td>\n",
              "      <td>0.759597</td>\n",
              "      <td>0.992721</td>\n",
              "      <td>0.939939</td>\n",
              "      <td>0.852791</td>\n",
              "      <td>0.836514</td>\n",
              "      <td>1.151732</td>\n",
              "      <td>0.827929</td>\n",
              "      <td>0.961106</td>\n",
              "      <td>0.515455</td>\n",
              "      <td>0.707437</td>\n",
              "      <td>0.880258</td>\n",
              "      <td>0.790824</td>\n",
              "      <td>1.036755</td>\n",
              "      <td>1.251907</td>\n",
              "      <td>0.674213</td>\n",
              "      <td>0.798357</td>\n",
              "      <td>0.928285</td>\n",
              "      <td>0.810706</td>\n",
              "      <td>1.164182</td>\n",
              "      <td>0.683739</td>\n",
              "      <td>0.819960</td>\n",
              "      <td>0.976442</td>\n",
              "      <td>0.873684</td>\n",
              "      <td>0.467772</td>\n",
              "      <td>0.743054</td>\n",
              "      <td>0.266602</td>\n",
              "      <td>0.761792</td>\n",
              "      <td>2.040349</td>\n",
              "      <td>0.702627</td>\n",
              "      <td>0.780772</td>\n",
              "      <td>0.878628</td>\n",
              "      <td>0.812304</td>\n",
              "      <td>1.058227</td>\n",
              "      <td>0.656929</td>\n",
              "    </tr>\n",
              "    <tr>\n",
              "      <th>2014-01-09</th>\n",
              "      <td>0.682444</td>\n",
              "      <td>0.661490</td>\n",
              "      <td>0.640195</td>\n",
              "      <td>0.506412</td>\n",
              "      <td>0.979803</td>\n",
              "      <td>0.765409</td>\n",
              "      <td>0.827724</td>\n",
              "      <td>0.839357</td>\n",
              "      <td>0.732946</td>\n",
              "      <td>0.960854</td>\n",
              "      <td>0.844810</td>\n",
              "      <td>0.771780</td>\n",
              "      <td>0.576255</td>\n",
              "      <td>0.898560</td>\n",
              "      <td>0.951766</td>\n",
              "      <td>0.672829</td>\n",
              "      <td>1.143135</td>\n",
              "      <td>0.768584</td>\n",
              "      <td>0.991083</td>\n",
              "      <td>0.952177</td>\n",
              "      <td>0.851763</td>\n",
              "      <td>0.809872</td>\n",
              "      <td>1.161634</td>\n",
              "      <td>0.817983</td>\n",
              "      <td>0.983710</td>\n",
              "      <td>0.514050</td>\n",
              "      <td>0.676974</td>\n",
              "      <td>0.872785</td>\n",
              "      <td>0.799856</td>\n",
              "      <td>1.027972</td>\n",
              "      <td>1.256757</td>\n",
              "      <td>0.661317</td>\n",
              "      <td>0.811925</td>\n",
              "      <td>0.926776</td>\n",
              "      <td>0.836991</td>\n",
              "      <td>1.155945</td>\n",
              "      <td>0.683605</td>\n",
              "      <td>0.829671</td>\n",
              "      <td>0.857813</td>\n",
              "      <td>0.872300</td>\n",
              "      <td>...</td>\n",
              "      <td>0.757709</td>\n",
              "      <td>0.583775</td>\n",
              "      <td>0.921557</td>\n",
              "      <td>0.917306</td>\n",
              "      <td>0.670200</td>\n",
              "      <td>1.146007</td>\n",
              "      <td>0.756365</td>\n",
              "      <td>0.972252</td>\n",
              "      <td>0.934997</td>\n",
              "      <td>0.848166</td>\n",
              "      <td>0.838575</td>\n",
              "      <td>1.151732</td>\n",
              "      <td>0.824050</td>\n",
              "      <td>0.955752</td>\n",
              "      <td>0.514331</td>\n",
              "      <td>0.692206</td>\n",
              "      <td>0.878091</td>\n",
              "      <td>0.802064</td>\n",
              "      <td>1.046778</td>\n",
              "      <td>1.247775</td>\n",
              "      <td>0.702720</td>\n",
              "      <td>0.793784</td>\n",
              "      <td>0.922874</td>\n",
              "      <td>0.815432</td>\n",
              "      <td>1.160528</td>\n",
              "      <td>0.691365</td>\n",
              "      <td>0.820390</td>\n",
              "      <td>0.950671</td>\n",
              "      <td>0.873407</td>\n",
              "      <td>0.462367</td>\n",
              "      <td>0.743054</td>\n",
              "      <td>0.256662</td>\n",
              "      <td>0.757594</td>\n",
              "      <td>1.963263</td>\n",
              "      <td>0.712808</td>\n",
              "      <td>0.788375</td>\n",
              "      <td>0.883221</td>\n",
              "      <td>0.811233</td>\n",
              "      <td>1.052144</td>\n",
              "      <td>0.666358</td>\n",
              "    </tr>\n",
              "    <tr>\n",
              "      <th>2014-01-10</th>\n",
              "      <td>0.668022</td>\n",
              "      <td>0.665097</td>\n",
              "      <td>0.635657</td>\n",
              "      <td>0.530916</td>\n",
              "      <td>0.970302</td>\n",
              "      <td>0.773943</td>\n",
              "      <td>0.832049</td>\n",
              "      <td>0.844222</td>\n",
              "      <td>0.728539</td>\n",
              "      <td>0.963124</td>\n",
              "      <td>0.840621</td>\n",
              "      <td>0.762200</td>\n",
              "      <td>0.569656</td>\n",
              "      <td>0.912249</td>\n",
              "      <td>0.956142</td>\n",
              "      <td>0.666338</td>\n",
              "      <td>1.144858</td>\n",
              "      <td>0.765656</td>\n",
              "      <td>0.996610</td>\n",
              "      <td>0.947706</td>\n",
              "      <td>0.851934</td>\n",
              "      <td>0.809079</td>\n",
              "      <td>1.158551</td>\n",
              "      <td>0.818380</td>\n",
              "      <td>0.964824</td>\n",
              "      <td>0.508148</td>\n",
              "      <td>0.698975</td>\n",
              "      <td>0.872507</td>\n",
              "      <td>0.787412</td>\n",
              "      <td>1.020252</td>\n",
              "      <td>1.262147</td>\n",
              "      <td>0.662674</td>\n",
              "      <td>0.789363</td>\n",
              "      <td>0.933123</td>\n",
              "      <td>0.835515</td>\n",
              "      <td>1.151981</td>\n",
              "      <td>0.689358</td>\n",
              "      <td>0.823741</td>\n",
              "      <td>0.845541</td>\n",
              "      <td>0.875345</td>\n",
              "      <td>...</td>\n",
              "      <td>0.764295</td>\n",
              "      <td>0.573186</td>\n",
              "      <td>0.918272</td>\n",
              "      <td>0.919494</td>\n",
              "      <td>0.673815</td>\n",
              "      <td>1.154737</td>\n",
              "      <td>0.761314</td>\n",
              "      <td>0.977369</td>\n",
              "      <td>0.944411</td>\n",
              "      <td>0.854332</td>\n",
              "      <td>0.849042</td>\n",
              "      <td>1.130433</td>\n",
              "      <td>0.830515</td>\n",
              "      <td>0.969136</td>\n",
              "      <td>0.510958</td>\n",
              "      <td>0.705745</td>\n",
              "      <td>0.874924</td>\n",
              "      <td>0.827956</td>\n",
              "      <td>1.042018</td>\n",
              "      <td>1.237177</td>\n",
              "      <td>0.711996</td>\n",
              "      <td>0.795156</td>\n",
              "      <td>0.928025</td>\n",
              "      <td>0.818090</td>\n",
              "      <td>1.159785</td>\n",
              "      <td>0.694709</td>\n",
              "      <td>0.823312</td>\n",
              "      <td>0.969897</td>\n",
              "      <td>0.866486</td>\n",
              "      <td>0.455631</td>\n",
              "      <td>0.741415</td>\n",
              "      <td>0.256336</td>\n",
              "      <td>0.758277</td>\n",
              "      <td>1.961543</td>\n",
              "      <td>0.730460</td>\n",
              "      <td>0.790751</td>\n",
              "      <td>0.879011</td>\n",
              "      <td>0.809628</td>\n",
              "      <td>1.072705</td>\n",
              "      <td>0.646759</td>\n",
              "    </tr>\n",
              "    <tr>\n",
              "      <th>2014-01-13</th>\n",
              "      <td>0.673199</td>\n",
              "      <td>0.660341</td>\n",
              "      <td>0.642763</td>\n",
              "      <td>0.537599</td>\n",
              "      <td>0.979043</td>\n",
              "      <td>0.788863</td>\n",
              "      <td>0.849712</td>\n",
              "      <td>0.834492</td>\n",
              "      <td>0.734106</td>\n",
              "      <td>0.972440</td>\n",
              "      <td>0.851196</td>\n",
              "      <td>0.766092</td>\n",
              "      <td>0.587074</td>\n",
              "      <td>0.903488</td>\n",
              "      <td>0.955869</td>\n",
              "      <td>0.669624</td>\n",
              "      <td>1.161055</td>\n",
              "      <td>0.770907</td>\n",
              "      <td>1.009096</td>\n",
              "      <td>0.950530</td>\n",
              "      <td>0.858271</td>\n",
              "      <td>0.837782</td>\n",
              "      <td>1.168360</td>\n",
              "      <td>0.830316</td>\n",
              "      <td>0.967947</td>\n",
              "      <td>0.514893</td>\n",
              "      <td>0.707437</td>\n",
              "      <td>0.880536</td>\n",
              "      <td>0.792630</td>\n",
              "      <td>1.031357</td>\n",
              "      <td>1.264123</td>\n",
              "      <td>0.651136</td>\n",
              "      <td>0.805979</td>\n",
              "      <td>0.927504</td>\n",
              "      <td>0.832266</td>\n",
              "      <td>1.174959</td>\n",
              "      <td>0.684809</td>\n",
              "      <td>0.828296</td>\n",
              "      <td>0.888902</td>\n",
              "      <td>0.872577</td>\n",
              "      <td>...</td>\n",
              "      <td>0.763397</td>\n",
              "      <td>0.567354</td>\n",
              "      <td>0.899655</td>\n",
              "      <td>0.910742</td>\n",
              "      <td>0.665270</td>\n",
              "      <td>1.132107</td>\n",
              "      <td>0.739905</td>\n",
              "      <td>0.962632</td>\n",
              "      <td>0.930291</td>\n",
              "      <td>0.909826</td>\n",
              "      <td>0.827157</td>\n",
              "      <td>1.113992</td>\n",
              "      <td>0.819276</td>\n",
              "      <td>0.953224</td>\n",
              "      <td>0.502246</td>\n",
              "      <td>0.698975</td>\n",
              "      <td>0.851394</td>\n",
              "      <td>0.831369</td>\n",
              "      <td>1.025050</td>\n",
              "      <td>1.216877</td>\n",
              "      <td>0.699552</td>\n",
              "      <td>0.800948</td>\n",
              "      <td>0.914967</td>\n",
              "      <td>0.830494</td>\n",
              "      <td>1.140585</td>\n",
              "      <td>0.696582</td>\n",
              "      <td>0.814975</td>\n",
              "      <td>0.954352</td>\n",
              "      <td>0.854583</td>\n",
              "      <td>0.462038</td>\n",
              "      <td>0.724644</td>\n",
              "      <td>0.250306</td>\n",
              "      <td>0.733382</td>\n",
              "      <td>1.989762</td>\n",
              "      <td>0.719532</td>\n",
              "      <td>0.770412</td>\n",
              "      <td>0.871740</td>\n",
              "      <td>0.800710</td>\n",
              "      <td>1.064067</td>\n",
              "      <td>0.661551</td>\n",
              "    </tr>\n",
              "    <tr>\n",
              "      <th>2014-01-14</th>\n",
              "      <td>0.661181</td>\n",
              "      <td>0.664522</td>\n",
              "      <td>0.649045</td>\n",
              "      <td>0.540476</td>\n",
              "      <td>0.986264</td>\n",
              "      <td>0.790505</td>\n",
              "      <td>0.848541</td>\n",
              "      <td>0.842362</td>\n",
              "      <td>0.736459</td>\n",
              "      <td>0.958346</td>\n",
              "      <td>0.850942</td>\n",
              "      <td>0.761302</td>\n",
              "      <td>0.580245</td>\n",
              "      <td>0.907868</td>\n",
              "      <td>0.936450</td>\n",
              "      <td>0.673157</td>\n",
              "      <td>1.157264</td>\n",
              "      <td>0.759597</td>\n",
              "      <td>0.992721</td>\n",
              "      <td>0.939939</td>\n",
              "      <td>0.852791</td>\n",
              "      <td>0.836514</td>\n",
              "      <td>1.151732</td>\n",
              "      <td>0.827929</td>\n",
              "      <td>0.961106</td>\n",
              "      <td>0.515455</td>\n",
              "      <td>0.707437</td>\n",
              "      <td>0.880258</td>\n",
              "      <td>0.790824</td>\n",
              "      <td>1.036755</td>\n",
              "      <td>1.251907</td>\n",
              "      <td>0.674213</td>\n",
              "      <td>0.798357</td>\n",
              "      <td>0.928285</td>\n",
              "      <td>0.810706</td>\n",
              "      <td>1.164182</td>\n",
              "      <td>0.683739</td>\n",
              "      <td>0.819960</td>\n",
              "      <td>0.976442</td>\n",
              "      <td>0.873684</td>\n",
              "      <td>...</td>\n",
              "      <td>0.793634</td>\n",
              "      <td>0.567968</td>\n",
              "      <td>0.918272</td>\n",
              "      <td>0.915665</td>\n",
              "      <td>0.665598</td>\n",
              "      <td>1.138655</td>\n",
              "      <td>0.751821</td>\n",
              "      <td>0.963656</td>\n",
              "      <td>0.934056</td>\n",
              "      <td>0.907771</td>\n",
              "      <td>0.837465</td>\n",
              "      <td>1.116981</td>\n",
              "      <td>0.819276</td>\n",
              "      <td>0.962147</td>\n",
              "      <td>0.491566</td>\n",
              "      <td>0.727747</td>\n",
              "      <td>0.862645</td>\n",
              "      <td>0.833376</td>\n",
              "      <td>1.025979</td>\n",
              "      <td>1.227296</td>\n",
              "      <td>0.724213</td>\n",
              "      <td>0.807351</td>\n",
              "      <td>0.918713</td>\n",
              "      <td>0.852054</td>\n",
              "      <td>1.151485</td>\n",
              "      <td>0.701532</td>\n",
              "      <td>0.818327</td>\n",
              "      <td>0.968261</td>\n",
              "      <td>0.860950</td>\n",
              "      <td>0.463615</td>\n",
              "      <td>0.724548</td>\n",
              "      <td>0.258128</td>\n",
              "      <td>0.736701</td>\n",
              "      <td>2.003183</td>\n",
              "      <td>0.741387</td>\n",
              "      <td>0.778871</td>\n",
              "      <td>0.872314</td>\n",
              "      <td>0.816941</td>\n",
              "      <td>1.081221</td>\n",
              "      <td>0.679671</td>\n",
              "    </tr>\n",
              "  </tbody>\n",
              "</table>\n",
              "<p>5 rows × 251 columns</p>\n",
              "</div>"
            ],
            "text/plain": [
              "            stock1(t-4)  stock2(t-4)  ...  stock50(t)  stock1(t+1)\n",
              "Date                                  ...                         \n",
              "2014-01-08     0.687066     0.676347  ...    1.058227     0.656929\n",
              "2014-01-09     0.682444     0.661490  ...    1.052144     0.666358\n",
              "2014-01-10     0.668022     0.665097  ...    1.072705     0.646759\n",
              "2014-01-13     0.673199     0.660341  ...    1.064067     0.661551\n",
              "2014-01-14     0.661181     0.664522  ...    1.081221     0.679671\n",
              "\n",
              "[5 rows x 251 columns]"
            ]
          },
          "metadata": {
            "tags": []
          },
          "execution_count": 8
        }
      ]
    },
    {
      "cell_type": "code",
      "metadata": {
        "id": "6eZX-jIT6RbL",
        "colab_type": "code",
        "colab": {}
      },
      "source": [
        "#Randomly Split the cases with proportions (90%,10%)\n",
        "x = reframed.iloc[:,0:250]\n",
        "y = reframed.iloc[:,-1] \n",
        "train, test, ytrain, ytest = train_test_split(x ,y , test_size =0.10, random_state=100)"
      ],
      "execution_count": 0,
      "outputs": []
    },
    {
      "cell_type": "markdown",
      "metadata": {
        "id": "6Hh7Gj36al0U",
        "colab_type": "text"
      },
      "source": [
        "# PCA"
      ]
    },
    {
      "cell_type": "code",
      "metadata": {
        "id": "297lI9SkB892",
        "colab_type": "code",
        "outputId": "b057bcf3-05af-41fc-de3d-05a8a627c237",
        "colab": {
          "base_uri": "https://localhost:8080/",
          "height": 232
        }
      },
      "source": [
        "#4.1 Compute a plausible dimension h for H (H=3)\n",
        "pca=PCA()\n",
        "pca=pca.fit(train)\n",
        "eigenvalues = pca.explained_variance_\n",
        "j=list(range(250))\n",
        "plt.plot(eigenvalues, marker='o', markerfacecolor='blue', markersize=10, color='skyblue', linewidth=2)\n",
        "plt.xlabel('k')\n",
        "plt.ylabel('Eigenvalue')\n",
        "\n",
        "#to compute small plausible value of H\n",
        "cumsum=np.cumsum(pca.explained_variance_ratio_)\n",
        "#print(cumsum)\n",
        "num_components=np.argmax(cumsum>.90)+1 #account for 0th element\n",
        "print(num_components)"
      ],
      "execution_count": 0,
      "outputs": [
        {
          "output_type": "error",
          "ename": "NameError",
          "evalue": "ignored",
          "traceback": [
            "\u001b[0;31m---------------------------------------------------------------------------\u001b[0m",
            "\u001b[0;31mNameError\u001b[0m                                 Traceback (most recent call last)",
            "\u001b[0;32m<ipython-input-1-fc270cff75e9>\u001b[0m in \u001b[0;36m<module>\u001b[0;34m()\u001b[0m\n\u001b[0;32m----> 1\u001b[0;31m \u001b[0mpca\u001b[0m\u001b[0;34m=\u001b[0m\u001b[0mPCA\u001b[0m\u001b[0;34m(\u001b[0m\u001b[0;34m)\u001b[0m\u001b[0;34m\u001b[0m\u001b[0;34m\u001b[0m\u001b[0m\n\u001b[0m\u001b[1;32m      2\u001b[0m \u001b[0mpca\u001b[0m\u001b[0;34m=\u001b[0m\u001b[0mpca\u001b[0m\u001b[0;34m.\u001b[0m\u001b[0mfit\u001b[0m\u001b[0;34m(\u001b[0m\u001b[0mtrain\u001b[0m\u001b[0;34m)\u001b[0m\u001b[0;34m\u001b[0m\u001b[0;34m\u001b[0m\u001b[0m\n\u001b[1;32m      3\u001b[0m \u001b[0meigenvalues\u001b[0m \u001b[0;34m=\u001b[0m \u001b[0mpca\u001b[0m\u001b[0;34m.\u001b[0m\u001b[0mexplained_variance_\u001b[0m\u001b[0;34m\u001b[0m\u001b[0;34m\u001b[0m\u001b[0m\n\u001b[1;32m      4\u001b[0m \u001b[0mj\u001b[0m\u001b[0;34m=\u001b[0m\u001b[0mlist\u001b[0m\u001b[0;34m(\u001b[0m\u001b[0mrange\u001b[0m\u001b[0;34m(\u001b[0m\u001b[0;36m250\u001b[0m\u001b[0;34m)\u001b[0m\u001b[0;34m)\u001b[0m\u001b[0;34m\u001b[0m\u001b[0;34m\u001b[0m\u001b[0m\n\u001b[1;32m      5\u001b[0m \u001b[0mplt\u001b[0m\u001b[0;34m.\u001b[0m\u001b[0mplot\u001b[0m\u001b[0;34m(\u001b[0m\u001b[0meigenvalues\u001b[0m\u001b[0;34m,\u001b[0m \u001b[0mmarker\u001b[0m\u001b[0;34m=\u001b[0m\u001b[0;34m'o'\u001b[0m\u001b[0;34m,\u001b[0m \u001b[0mmarkerfacecolor\u001b[0m\u001b[0;34m=\u001b[0m\u001b[0;34m'blue'\u001b[0m\u001b[0;34m,\u001b[0m \u001b[0mmarkersize\u001b[0m\u001b[0;34m=\u001b[0m\u001b[0;36m10\u001b[0m\u001b[0;34m,\u001b[0m \u001b[0mcolor\u001b[0m\u001b[0;34m=\u001b[0m\u001b[0;34m'skyblue'\u001b[0m\u001b[0;34m,\u001b[0m \u001b[0mlinewidth\u001b[0m\u001b[0;34m=\u001b[0m\u001b[0;36m2\u001b[0m\u001b[0;34m)\u001b[0m\u001b[0;34m\u001b[0m\u001b[0;34m\u001b[0m\u001b[0m\n",
            "\u001b[0;31mNameError\u001b[0m: name 'PCA' is not defined"
          ]
        }
      ]
    },
    {
      "cell_type": "markdown",
      "metadata": {
        "id": "gy2Nv_71atqR",
        "colab_type": "text"
      },
      "source": [
        "# Autoencoder"
      ]
    },
    {
      "cell_type": "code",
      "metadata": {
        "id": "rMwzoPAvoN0q",
        "colab_type": "code",
        "colab": {}
      },
      "source": [
        "train = train.values\n",
        "test = test.values"
      ],
      "execution_count": 0,
      "outputs": []
    },
    {
      "cell_type": "code",
      "metadata": {
        "id": "uj76hQCTGjwL",
        "colab_type": "code",
        "outputId": "e26b9452-46de-4e49-c872-8eb00a51ffe5",
        "colab": {
          "base_uri": "https://localhost:8080/",
          "height": 221
        }
      },
      "source": [
        "from tensorflow.keras.models import Sequential\n",
        "from tensorflow.keras.layers import Dense\n",
        "from tensorflow.keras.initializers import Constant\n",
        "\n",
        "# constructing the autoencoder\n",
        "\n",
        "# determine h through PCA on your own data\n",
        "# try to find suitable initializers for your own data\n",
        "h = 3\n",
        "model = Sequential()\n",
        "model.add(Dense(h, activation='relu', input_dim=250, bias_initializer=Constant(value=8),name='hidden'))\n",
        "model.add(Dense(250, activation='relu', bias_initializer=Constant(value=2)))\n",
        "model.summary()"
      ],
      "execution_count": 0,
      "outputs": [
        {
          "output_type": "stream",
          "text": [
            "Model: \"sequential\"\n",
            "_________________________________________________________________\n",
            "Layer (type)                 Output Shape              Param #   \n",
            "=================================================================\n",
            "hidden (Dense)               (None, 3)                 753       \n",
            "_________________________________________________________________\n",
            "dense (Dense)                (None, 250)               1000      \n",
            "=================================================================\n",
            "Total params: 1,753\n",
            "Trainable params: 1,753\n",
            "Non-trainable params: 0\n",
            "_________________________________________________________________\n"
          ],
          "name": "stdout"
        }
      ]
    },
    {
      "cell_type": "code",
      "metadata": {
        "id": "taSEDbNnG2t_",
        "colab_type": "code",
        "colab": {}
      },
      "source": [
        "from tensorflow.keras import optimizers, losses\n",
        "\n",
        "model.compile(optimizer=optimizers.SGD(learning_rate=0.05, decay=1e-7), loss='mean_squared_error')\n"
      ],
      "execution_count": 0,
      "outputs": []
    },
    {
      "cell_type": "code",
      "metadata": {
        "id": "_cg7yR4-G62-",
        "colab_type": "code",
        "colab": {}
      },
      "source": [
        "from tensorflow.keras import callbacks\n",
        "\n",
        "# the following callback to record losses after each batch\n",
        "class MyHistory(callbacks.Callback):\n",
        "    def on_train_begin(self, logs={}):\n",
        "      self.MSEtrain = []\n",
        "      self.MSEtest = []\n",
        "    def on_batch_end(self, batch, logs={}):\n",
        "      self.MSEtrain.append(self.model.evaluate(train,train,verbose = 0))\n",
        "      self.MSEtest.append(self.model.evaluate(test,test,verbose = 0))\n",
        "\n",
        "MyMonitor = MyHistory()\n",
        "\n",
        "# Keras built-in early-stopping callback\n",
        "# https://www.tensorflow.org/api_docs/python/tf/keras/callbacks/EarlyStopping\n",
        "es = callbacks.EarlyStopping(monitor='val_loss', mode='min', verbose=1, patience=15, restore_best_weights=True)"
      ],
      "execution_count": 0,
      "outputs": []
    },
    {
      "cell_type": "code",
      "metadata": {
        "id": "Hc3V5quYHCtA",
        "colab_type": "code",
        "outputId": "ebc82207-0b29-4324-d2ee-917d4a1818ed",
        "colab": {
          "base_uri": "https://localhost:8080/",
          "height": 714
        }
      },
      "source": [
        "Monitor = model.fit(train, train, epochs=20, batch_size=32, callbacks = [MyMonitor, es], validation_data = (test, test), verbose = 2)\n",
        "\n",
        "# After training, access MSE(AutoTrain) and MSE(AutoTest) through MyMonitor.MSEtrain and MyMonitor.MSEtest."
      ],
      "execution_count": 0,
      "outputs": [
        {
          "output_type": "stream",
          "text": [
            "Epoch 1/20\n",
            "WARNING:tensorflow:Method (on_train_batch_end) is slow compared to the batch update (0.147205). Check your callbacks.\n",
            "29/29 - 2s - loss: 0.2799 - val_loss: 0.2591\n",
            "Epoch 2/20\n",
            "29/29 - 2s - loss: 0.0701 - val_loss: 0.0632\n",
            "Epoch 3/20\n",
            "29/29 - 2s - loss: 0.0541 - val_loss: 0.0517\n",
            "Epoch 4/20\n",
            "29/29 - 2s - loss: 0.0478 - val_loss: 0.0497\n",
            "Epoch 5/20\n",
            "29/29 - 2s - loss: 0.0521 - val_loss: 0.0486\n",
            "Epoch 6/20\n",
            "29/29 - 2s - loss: 0.0493 - val_loss: 0.0476\n",
            "Epoch 7/20\n",
            "29/29 - 2s - loss: 0.0426 - val_loss: 0.0465\n",
            "Epoch 8/20\n",
            "29/29 - 2s - loss: 0.0440 - val_loss: 0.0461\n",
            "Epoch 9/20\n",
            "29/29 - 2s - loss: 0.0452 - val_loss: 0.0455\n",
            "Epoch 10/20\n",
            "29/29 - 2s - loss: 0.0516 - val_loss: 0.0457\n",
            "Epoch 11/20\n",
            "29/29 - 2s - loss: 0.0525 - val_loss: 0.0458\n",
            "Epoch 12/20\n",
            "29/29 - 2s - loss: 0.0556 - val_loss: 0.0457\n",
            "Epoch 13/20\n",
            "29/29 - 2s - loss: 0.0455 - val_loss: 0.0450\n",
            "Epoch 14/20\n",
            "29/29 - 2s - loss: 0.0476 - val_loss: 0.0446\n",
            "Epoch 15/20\n",
            "29/29 - 2s - loss: 0.0462 - val_loss: 0.0443\n",
            "Epoch 16/20\n",
            "29/29 - 2s - loss: 0.0417 - val_loss: 0.0442\n",
            "Epoch 17/20\n",
            "29/29 - 2s - loss: 0.0500 - val_loss: 0.0445\n",
            "Epoch 18/20\n",
            "29/29 - 2s - loss: 0.0453 - val_loss: 0.0433\n",
            "Epoch 19/20\n",
            "29/29 - 2s - loss: 0.0525 - val_loss: 0.0434\n",
            "Epoch 20/20\n",
            "29/29 - 2s - loss: 0.0464 - val_loss: 0.0430\n"
          ],
          "name": "stdout"
        }
      ]
    },
    {
      "cell_type": "code",
      "metadata": {
        "id": "h9uuDdAHNkaW",
        "colab_type": "code",
        "outputId": "cdfc0184-74ba-436f-b85b-590dea81f9c9",
        "colab": {
          "base_uri": "https://localhost:8080/",
          "height": 34
        }
      },
      "source": [
        "len(MyMonitor.MSEtrain)"
      ],
      "execution_count": 0,
      "outputs": [
        {
          "output_type": "execute_result",
          "data": {
            "text/plain": [
              "580"
            ]
          },
          "metadata": {
            "tags": []
          },
          "execution_count": 15
        }
      ]
    },
    {
      "cell_type": "code",
      "metadata": {
        "id": "2ze_P80EHGAM",
        "colab_type": "code",
        "outputId": "224308fa-aae3-48a7-b9e9-f3b8e966d80e",
        "colab": {
          "base_uri": "https://localhost:8080/",
          "height": 51
        }
      },
      "source": [
        "model.evaluate(test, test)"
      ],
      "execution_count": 0,
      "outputs": [
        {
          "output_type": "stream",
          "text": [
            "4/4 [==============================] - 0s 2ms/step - loss: 0.0430\n"
          ],
          "name": "stdout"
        },
        {
          "output_type": "execute_result",
          "data": {
            "text/plain": [
              "0.0429578498005867"
            ]
          },
          "metadata": {
            "tags": []
          },
          "execution_count": 16
        }
      ]
    },
    {
      "cell_type": "code",
      "metadata": {
        "id": "xqCA5bqWLHHr",
        "colab_type": "code",
        "outputId": "fce0caeb-c1d6-4c9d-f8d6-c95ebe126d36",
        "colab": {
          "base_uri": "https://localhost:8080/",
          "height": 312
        }
      },
      "source": [
        "plt.plot(MyMonitor.MSEtrain, marker='o', markerfacecolor='blue', markersize=1, color='skyblue', linewidth=1, label = \"Train\")\n",
        "plt.plot(MyMonitor.MSEtest, marker='o', markerfacecolor='blue', markersize=1, color='red', linewidth=1, label = \"Test\")\n",
        "plt.legend( loc = 'upper right')\n",
        "plt.xlabel('Batch n')\n",
        "plt.ylabel('MSE')\n",
        "plt.title('MSE(AutoTrain) & MSE(AutoTest)')"
      ],
      "execution_count": 0,
      "outputs": [
        {
          "output_type": "execute_result",
          "data": {
            "text/plain": [
              "Text(0.5, 1.0, 'MSE(AutoTrain) & MSE(AutoTest)')"
            ]
          },
          "metadata": {
            "tags": []
          },
          "execution_count": 17
        },
        {
          "output_type": "display_data",
          "data": {
            "image/png": "[encoded data removed]",
            "text/plain": [
              "<Figure size 432x288 with 1 Axes>"
            ]
          },
          "metadata": {
            "tags": [],
            "needs_background": "light"
          }
        }
      ]
    },
    {
      "cell_type": "markdown",
      "metadata": {
        "id": "JqXiO3ilkv-E",
        "colab_type": "text"
      },
      "source": [
        "#  4.4 Compute Compressed Inputs "
      ]
    },
    {
      "cell_type": "code",
      "metadata": {
        "id": "L2GONxEzk96q",
        "colab_type": "code",
        "outputId": "97ad670b-3939-4325-c4d6-4b624a1347ed",
        "colab": {
          "base_uri": "https://localhost:8080/",
          "height": 51
        }
      },
      "source": [
        "# extract the hidden layer\n",
        "Htrain = model.layers[0](train).numpy()\n",
        "print(len(Htrain))\n",
        "Htest = model.layers[0](test).numpy()\n",
        "print(len(Htest))"
      ],
      "execution_count": 0,
      "outputs": [
        {
          "output_type": "stream",
          "text": [
            "901\n",
            "101\n"
          ],
          "name": "stdout"
        }
      ]
    },
    {
      "cell_type": "code",
      "metadata": {
        "id": "hDfGDMxXPBPP",
        "colab_type": "code",
        "colab": {}
      },
      "source": [
        "# make sure Z is a two-dimensional numpy array\n",
        "# shape (900,) is different from shape (900,1)\n",
        "ytrain = ytrain.to_numpy()\n",
        "ytest = ytest.to_numpy()\n",
        "\n",
        "ytrain = np.reshape(ytrain,(901,1))\n",
        "ytest = np.reshape(ytest,(101,1))"
      ],
      "execution_count": 0,
      "outputs": []
    },
    {
      "cell_type": "code",
      "metadata": {
        "id": "0wzImTo24k4Q",
        "colab_type": "code",
        "colab": {}
      },
      "source": [
        "price_train = ytrain*54.085025\n",
        "price_test = ytest*54.085025"
      ],
      "execution_count": 0,
      "outputs": []
    },
    {
      "cell_type": "code",
      "metadata": {
        "id": "fyBhfQeDWM5F",
        "colab_type": "code",
        "colab": {}
      },
      "source": [
        "#901 cases in NewTrain\n",
        "\n",
        "#numwth = h*k+k+k+1 =< 901\n",
        "\n",
        "# for my data h = 3, so k=180"
      ],
      "execution_count": 0,
      "outputs": []
    },
    {
      "cell_type": "markdown",
      "metadata": {
        "id": "aZo7wZA2XdC_",
        "colab_type": "text"
      },
      "source": [
        "# MLP"
      ]
    },
    {
      "cell_type": "code",
      "metadata": {
        "id": "IIXOWq0DXbCv",
        "colab_type": "code",
        "outputId": "1a133d5b-79c6-427c-e1db-9782ea354c93",
        "colab": {
          "base_uri": "https://localhost:8080/",
          "height": 221
        }
      },
      "source": [
        "mlp = Sequential()\n",
        "mlp.add(Dense(180, activation='relu', input_dim=h, bias_initializer=Constant(value=5)))\n",
        "mlp.add(Dense(1, activation='relu', bias_initializer=Constant(value=45))) #choose initializer similar to targer variable values\n",
        "\n",
        "mlp.summary()"
      ],
      "execution_count": 0,
      "outputs": [
        {
          "output_type": "stream",
          "text": [
            "Model: \"sequential_1\"\n",
            "_________________________________________________________________\n",
            "Layer (type)                 Output Shape              Param #   \n",
            "=================================================================\n",
            "dense_1 (Dense)              (None, 180)               720       \n",
            "_________________________________________________________________\n",
            "dense_2 (Dense)              (None, 1)                 181       \n",
            "=================================================================\n",
            "Total params: 901\n",
            "Trainable params: 901\n",
            "Non-trainable params: 0\n",
            "_________________________________________________________________\n"
          ],
          "name": "stdout"
        }
      ]
    },
    {
      "cell_type": "code",
      "metadata": {
        "id": "boPVQDwyXmfT",
        "colab_type": "code",
        "colab": {}
      },
      "source": [
        "# configure suitable lr and decay\n",
        "mlp.compile(optimizer=optimizers.SGD(learning_rate=0.0001, decay=1e-6), loss='mean_squared_error')"
      ],
      "execution_count": 0,
      "outputs": []
    },
    {
      "cell_type": "code",
      "metadata": {
        "id": "WX04HBHkXnR_",
        "colab_type": "code",
        "colab": {}
      },
      "source": [
        "class mlpMyHistory(callbacks.Callback):\n",
        "    def on_train_begin(self, logs={}):\n",
        "      self.MSEtrain = []\n",
        "      self.MSEtest = []\n",
        "    def on_batch_end(self, batch, logs={}):\n",
        "      self.MSEtrain.append(self.model.evaluate(Htrain,price_train,verbose = 0))\n",
        "      self.MSEtest.append(self.model.evaluate(Htest,price_test,verbose = 0))\n",
        "\n",
        "mlpMyMonitor = mlpMyHistory()\n",
        "\n",
        "#es = callbacks.EarlyStopping(monitor='val_loss', mode='min', verbose=1, patience=90, restore_best_weights=True)\n",
        "es = callbacks.EarlyStopping(monitor='val_loss', mode='min', verbose=1, patience=12, restore_best_weights=True)"
      ],
      "execution_count": 0,
      "outputs": []
    },
    {
      "cell_type": "code",
      "metadata": {
        "id": "aB_35BerXqzd",
        "colab_type": "code",
        "outputId": "f3147814-db6e-4df7-b216-e459dbd67cc6",
        "colab": {
          "base_uri": "https://localhost:8080/",
          "height": 1000
        }
      },
      "source": [
        "mlpMonitor = mlp.fit(Htrain, price_train, epochs=250, batch_size=32, callbacks = [mlpMyMonitor, es], validation_data = (Htest, price_test), verbose = 2)"
      ],
      "execution_count": 0,
      "outputs": [
        {
          "output_type": "stream",
          "text": [
            "Epoch 1/250\n",
            "29/29 - 2s - loss: 142.2701 - val_loss: 274.3903\n",
            "Epoch 2/250\n",
            "29/29 - 2s - loss: 118.5979 - val_loss: 118.2357\n",
            "Epoch 3/250\n",
            "29/29 - 2s - loss: 102.8875 - val_loss: 115.5418\n",
            "Epoch 4/250\n",
            "29/29 - 2s - loss: 91.0163 - val_loss: 99.4351\n",
            "Epoch 5/250\n",
            "29/29 - 2s - loss: 100.0126 - val_loss: 91.6679\n",
            "Epoch 6/250\n",
            "29/29 - 2s - loss: 91.7977 - val_loss: 92.0052\n",
            "Epoch 7/250\n",
            "29/29 - 2s - loss: 66.1078 - val_loss: 78.7660\n",
            "Epoch 8/250\n",
            "29/29 - 2s - loss: 60.9192 - val_loss: 66.3646\n",
            "Epoch 9/250\n",
            "29/29 - 2s - loss: 84.9887 - val_loss: 148.2042\n",
            "Epoch 10/250\n",
            "29/29 - 2s - loss: 45.2878 - val_loss: 69.8483\n",
            "Epoch 11/250\n",
            "29/29 - 2s - loss: 54.6608 - val_loss: 70.5625\n",
            "Epoch 12/250\n",
            "29/29 - 2s - loss: 58.7738 - val_loss: 68.4370\n",
            "Epoch 13/250\n",
            "29/29 - 2s - loss: 29.8423 - val_loss: 38.2992\n",
            "Epoch 14/250\n",
            "29/29 - 2s - loss: 30.5055 - val_loss: 26.2947\n",
            "Epoch 15/250\n",
            "29/29 - 2s - loss: 19.7632 - val_loss: 29.5471\n",
            "Epoch 16/250\n",
            "29/29 - 2s - loss: 17.6739 - val_loss: 19.4134\n",
            "Epoch 17/250\n",
            "29/29 - 2s - loss: 16.0999 - val_loss: 16.4596\n",
            "Epoch 18/250\n",
            "29/29 - 2s - loss: 13.3982 - val_loss: 14.7972\n",
            "Epoch 19/250\n",
            "29/29 - 2s - loss: 12.2054 - val_loss: 13.1441\n",
            "Epoch 20/250\n",
            "29/29 - 2s - loss: 10.7462 - val_loss: 11.9056\n",
            "Epoch 21/250\n",
            "29/29 - 2s - loss: 10.1131 - val_loss: 14.3682\n",
            "Epoch 22/250\n",
            "29/29 - 2s - loss: 13.2894 - val_loss: 31.3548\n",
            "Epoch 23/250\n",
            "29/29 - 2s - loss: 9.1428 - val_loss: 12.6758\n",
            "Epoch 24/250\n",
            "29/29 - 2s - loss: 9.9027 - val_loss: 10.3540\n",
            "Epoch 25/250\n",
            "29/29 - 2s - loss: 7.9260 - val_loss: 8.5720\n",
            "Epoch 26/250\n",
            "29/29 - 2s - loss: 7.7559 - val_loss: 9.2859\n",
            "Epoch 27/250\n",
            "29/29 - 3s - loss: 7.7295 - val_loss: 8.0197\n",
            "Epoch 28/250\n",
            "29/29 - 2s - loss: 7.7407 - val_loss: 12.3171\n",
            "Epoch 29/250\n",
            "29/29 - 2s - loss: 7.9862 - val_loss: 7.8444\n",
            "Epoch 30/250\n",
            "29/29 - 2s - loss: 9.5546 - val_loss: 10.9721\n",
            "Epoch 31/250\n",
            "29/29 - 2s - loss: 10.4317 - val_loss: 12.9665\n",
            "Epoch 32/250\n",
            "29/29 - 2s - loss: 9.3710 - val_loss: 8.0830\n",
            "Epoch 33/250\n",
            "29/29 - 2s - loss: 9.1515 - val_loss: 7.4648\n",
            "Epoch 34/250\n",
            "29/29 - 2s - loss: 8.0403 - val_loss: 7.6920\n",
            "Epoch 35/250\n",
            "29/29 - 2s - loss: 9.1936 - val_loss: 7.5413\n",
            "Epoch 36/250\n",
            "29/29 - 2s - loss: 7.0400 - val_loss: 7.3803\n",
            "Epoch 37/250\n",
            "29/29 - 2s - loss: 6.7281 - val_loss: 7.3649\n",
            "Epoch 38/250\n",
            "29/29 - 2s - loss: 7.8370 - val_loss: 9.6169\n",
            "Epoch 39/250\n",
            "29/29 - 2s - loss: 7.4853 - val_loss: 7.5361\n",
            "Epoch 40/250\n",
            "29/29 - 2s - loss: 8.2675 - val_loss: 7.6073\n",
            "Epoch 41/250\n",
            "29/29 - 3s - loss: 7.3537 - val_loss: 10.3769\n",
            "Epoch 42/250\n",
            "29/29 - 2s - loss: 10.7516 - val_loss: 19.9160\n",
            "Epoch 43/250\n",
            "29/29 - 2s - loss: 7.0845 - val_loss: 9.2750\n",
            "Epoch 44/250\n",
            "29/29 - 2s - loss: 7.4657 - val_loss: 12.0193\n",
            "Epoch 45/250\n",
            "29/29 - 2s - loss: 7.4012 - val_loss: 7.3737\n",
            "Epoch 46/250\n",
            "29/29 - 2s - loss: 6.7106 - val_loss: 7.7197\n",
            "Epoch 47/250\n",
            "29/29 - 2s - loss: 8.9770 - val_loss: 19.5559\n",
            "Epoch 48/250\n",
            "29/29 - 2s - loss: 8.4449 - val_loss: 8.8915\n",
            "Epoch 49/250\n",
            "Restoring model weights from the end of the best epoch.\n",
            "29/29 - 2s - loss: 9.3254 - val_loss: 18.6181\n",
            "Epoch 00049: early stopping\n"
          ],
          "name": "stdout"
        }
      ]
    },
    {
      "cell_type": "code",
      "metadata": {
        "id": "a9PiATJBtxBJ",
        "colab_type": "code",
        "outputId": "2d986d7b-c107-48e8-e6a1-c904f15b8924",
        "colab": {
          "base_uri": "https://localhost:8080/",
          "height": 34
        }
      },
      "source": [
        "len(mlpMyMonitor.MSEtrain)"
      ],
      "execution_count": 0,
      "outputs": [
        {
          "output_type": "execute_result",
          "data": {
            "text/plain": [
              "2233"
            ]
          },
          "metadata": {
            "tags": []
          },
          "execution_count": 118
        }
      ]
    },
    {
      "cell_type": "code",
      "metadata": {
        "id": "yt0vQwZWoHMl",
        "colab_type": "code",
        "outputId": "1f067e06-f80a-4982-a9c7-694d0cd233cc",
        "colab": {
          "base_uri": "https://localhost:8080/",
          "height": 312
        }
      },
      "source": [
        "plt.plot(mlpMyMonitor.MSEtrain, marker='o', markerfacecolor='blue', markersize=1, color='blue', linewidth=.5, label = \"Train\")\n",
        "plt.plot(mlpMyMonitor.MSEtest, marker='o', markerfacecolor='blue', markersize=1, color='y', linewidth=.5, label= 'Test')\n",
        "plt.legend()\n",
        "plt.xlabel('Batch n')\n",
        "plt.ylabel('MSE')\n",
        "plt.title('MSE(NewTrain) & MSE(NewTest)')"
      ],
      "execution_count": 0,
      "outputs": [
        {
          "output_type": "execute_result",
          "data": {
            "text/plain": [
              "Text(0.5, 1.0, 'MSE(NewTrain) & MSE(NewTest)')"
            ]
          },
          "metadata": {
            "tags": []
          },
          "execution_count": 28
        },
        {
          "output_type": "display_data",
          "data": {
            "image/png": "[encoded data removed]",
            "text/plain": [
              "<Figure size 432x288 with 1 Axes>"
            ]
          },
          "metadata": {
            "tags": [],
            "needs_background": "light"
          }
        }
      ]
    },
    {
      "cell_type": "markdown",
      "metadata": {
        "id": "tE7RM3rLahba",
        "colab_type": "text"
      },
      "source": [
        "# Predict Stock Price"
      ]
    },
    {
      "cell_type": "code",
      "metadata": {
        "id": "oFGK_EXPbgq7",
        "colab_type": "code",
        "colab": {}
      },
      "source": [
        "#inputsss = np.concatenate((Htrain,Htest), axis=0)"
      ],
      "execution_count": 0,
      "outputs": []
    },
    {
      "cell_type": "code",
      "metadata": {
        "id": "zx-m67TtxbXM",
        "colab_type": "code",
        "colab": {}
      },
      "source": [
        "Zt_train = mlp.predict(Htrain)\n",
        "Zt_test = mlp.predict(Htest)"
      ],
      "execution_count": 0,
      "outputs": []
    },
    {
      "cell_type": "code",
      "metadata": {
        "id": "BY02Dgwm-ShW",
        "colab_type": "code",
        "colab": {}
      },
      "source": [
        "#true_price = np.concatenate((price_train,price_test), axis=0)"
      ],
      "execution_count": 0,
      "outputs": []
    },
    {
      "cell_type": "code",
      "metadata": {
        "id": "HDoGzg48NWPU",
        "colab_type": "code",
        "outputId": "b159c14e-9ae7-4da3-f7bd-9be8cfda1bcd",
        "colab": {
          "base_uri": "https://localhost:8080/",
          "height": 400
        }
      },
      "source": [
        "plt.figure(num=None, figsize=(10, 5), dpi=80, facecolor='w', edgecolor='k')\n",
        "plt.plot(Zt_train, marker='o', markerfacecolor='blue', markersize=1, color='red', linewidth=.5,label='Stock Prediction')\n",
        "plt.plot(price_train, marker='o', markerfacecolor='blue', markersize=1, color='skyblue', linewidth=.5,label='True Stock Price')\n",
        "plt.legend()\n",
        "plt.title('Stock Prediction vs True Stock Price')\n",
        "plt.xlabel('Case n')\n",
        "plt.ylabel('Price')\n"
      ],
      "execution_count": 0,
      "outputs": [
        {
          "output_type": "execute_result",
          "data": {
            "text/plain": [
              "Text(0, 0.5, 'Price')"
            ]
          },
          "metadata": {
            "tags": []
          },
          "execution_count": 136
        },
        {
          "output_type": "display_data",
          "data": {
            "image/png": "[encoded data removed]",
            "text/plain": [
              "<Figure size 800x400 with 1 Axes>"
            ]
          },
          "metadata": {
            "tags": []
          }
        }
      ]
    },
    {
      "cell_type": "code",
      "metadata": {
        "id": "R0y_eMInNa0E",
        "colab_type": "code",
        "outputId": "1fd057d4-8bfd-430c-9f49-0e7b3baefa6a",
        "colab": {
          "base_uri": "https://localhost:8080/",
          "height": 400
        }
      },
      "source": [
        "plt.figure(num=None, figsize=(10, 5), dpi=80, facecolor='w', edgecolor='k')\n",
        "plt.plot(Zt_test, marker='o', markerfacecolor='red', markersize=3, color='red', linewidth=2, label = 'Stock Prediction')\n",
        "plt.plot(price_test, marker='o', markerfacecolor='blue', markersize=3, color='skyblue', linewidth=2, label= 'True Stock Price')\n",
        "plt.legend()\n",
        "plt.title('Stock Prediction vs True Stock Price')\n",
        "plt.xlabel('Case n')\n",
        "plt.ylabel('Price')"
      ],
      "execution_count": 0,
      "outputs": [
        {
          "output_type": "execute_result",
          "data": {
            "text/plain": [
              "Text(0, 0.5, 'Price')"
            ]
          },
          "metadata": {
            "tags": []
          },
          "execution_count": 146
        },
        {
          "output_type": "display_data",
          "data": {
            "image/png": "[encoded data removed]",
            "text/plain": [
              "<Figure size 800x400 with 1 Axes>"
            ]
          },
          "metadata": {
            "tags": []
          }
        }
      ]
    },
    {
      "cell_type": "code",
      "metadata": {
        "id": "iiA0Fs2ZqvpX",
        "colab_type": "code",
        "outputId": "5e1ebf03-b54c-4fba-f35f-5ec99024d629",
        "colab": {
          "base_uri": "https://localhost:8080/",
          "height": 51
        }
      },
      "source": [
        "MREP_train = np.mean(abs(Zt_train-price_train)/price_train)\n",
        "print(MREP_train)\n",
        "MREP_test = np.mean(abs(Zt_test-price_test)/price_test)\n",
        "print(MREP_test)"
      ],
      "execution_count": 0,
      "outputs": [
        {
          "output_type": "stream",
          "text": [
            "0.05211934925602007\n",
            "0.056754853599840956\n"
          ],
          "name": "stdout"
        }
      ]
    }
  ]
}